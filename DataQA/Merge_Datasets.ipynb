{
 "cells": [
  {
   "cell_type": "markdown",
   "id": "aa9ebd96",
   "metadata": {},
   "source": [
    "## Notebook Merge_Datasets\n",
    "This notebook takes the data from pi0, eta and bck previously separated into individual train/test-sets and creates a train-dataset and a test-dataset "
   ]
  },
  {
   "cell_type": "code",
   "execution_count": 1,
   "id": "d52c3c54",
   "metadata": {},
   "outputs": [],
   "source": [
    "import numpy as np"
   ]
  },
  {
   "cell_type": "code",
   "execution_count": 2,
   "id": "7ebd990a",
   "metadata": {},
   "outputs": [],
   "source": [
    "#path to files\n",
    "pi0_train = 'Data-Split/pi0_train.npz'\n",
    "eta_train = 'Data-Split/eta_train.npz'\n",
    "bck_train = 'Data-Split/bck_train.npz'\n",
    "\n",
    "pi0_test = 'Data-Split/pi0_test.npz'\n",
    "eta_test = 'Data-Split/eta_test.npz'\n",
    "bck_test = 'Data-Split/bck_test.npz'"
   ]
  },
  {
   "cell_type": "code",
   "execution_count": 3,
   "id": "574a5a7a",
   "metadata": {},
   "outputs": [
    {
     "name": "stdout",
     "output_type": "stream",
     "text": [
      "['Size', 'Cluster', 'ClusterE', 'ClusterPt', 'ClusterModuleNumber', 'ClusterType', 'ClusterX', 'ClusterY', 'ClusterM02', 'ClusterM20', 'PartE', 'PartPt', 'PartEta', 'PartPhi', 'PartIsPrimary', 'PartPID']\n"
     ]
    }
   ],
   "source": [
    "#Create dataloader\n",
    "data_pi0_train = np.load(pi0_train, allow_pickle=True)\n",
    "data_eta_train = np.load(eta_train, allow_pickle=True)\n",
    "data_bck_train = np.load(bck_train, allow_pickle=True)\n",
    "\n",
    "data_pi0_test = np.load(pi0_test, allow_pickle=True)\n",
    "data_eta_test = np.load(eta_test, allow_pickle=True)\n",
    "data_bck_test = np.load(bck_test, allow_pickle=True)\n",
    "\n",
    "print(list(data_bck_train.keys()))"
   ]
  },
  {
   "cell_type": "markdown",
   "id": "30ac3588",
   "metadata": {},
   "source": [
    "## Calculate size of dataset"
   ]
  },
  {
   "cell_type": "code",
   "execution_count": 4,
   "id": "c7943a6c",
   "metadata": {},
   "outputs": [],
   "source": [
    "pi0_size_train = data_pi0_train['Size']\n",
    "eta_size_train = data_eta_train['Size']\n",
    "bck_size_train = data_bck_train['Size']\n",
    "\n",
    "size_train = pi0_size_train.item() + eta_size_train.item() + bck_size_train.item()"
   ]
  },
  {
   "cell_type": "code",
   "execution_count": 5,
   "id": "5ccdb6f4",
   "metadata": {},
   "outputs": [],
   "source": [
    "pi0_size_test = data_pi0_test['Size']\n",
    "eta_size_test = data_eta_test['Size']\n",
    "bck_size_test = data_bck_test['Size']\n",
    "\n",
    "size_test = pi0_size_test.item() + eta_size_test.item() + bck_size_test.item()"
   ]
  },
  {
   "cell_type": "markdown",
   "id": "fea534e1",
   "metadata": {},
   "source": [
    "## Initialise arrays \n",
    "These arrays are initialised to fit the whole dataset"
   ]
  },
  {
   "cell_type": "code",
   "execution_count": 6,
   "id": "65426263",
   "metadata": {},
   "outputs": [],
   "source": [
    "Cluster_train = np.zeros((size_train, 50, 50), dtype=np.float32)\n",
    "ClusterType_train = np.zeros((size_train), dtype=np.ubyte)\n",
    "ClusterE_train = np.zeros((size_train), dtype=np.float32)\n",
    "ClusterPt_train = np.zeros((size_train), dtype=np.float32)\n",
    "ClusterModuleNumber_train = np.zeros((size_train), dtype=np.ubyte)\n",
    "ClusterX_train = np.zeros((size_train), dtype=np.ubyte)\n",
    "ClusterY_train = np.zeros((size_train), dtype=np.ubyte)\n",
    "ClusterM20_train = np.zeros((size_train), dtype=np.float32)\n",
    "ClusterM02_train = np.zeros((size_train), dtype= np.float32)\n",
    "PartE_train = np.zeros((size_train), dtype=np.float32)\n",
    "PartPt_train = np.zeros((size_train), dtype=np.float32)\n",
    "PartEta_train = np.zeros((size_train), dtype=np.float32)\n",
    "PartPhi_train = np.zeros((size_train), dtype=np.float32)\n",
    "PartIsPrimary_train = np.zeros((size_train), dtype=bool)\n",
    "PartPID_train = np.zeros((size_train), dtype=np.short)"
   ]
  },
  {
   "cell_type": "code",
   "execution_count": 7,
   "id": "163b3380",
   "metadata": {},
   "outputs": [],
   "source": [
    "Cluster_test = np.zeros((size_test, 50, 50), dtype=np.float32)\n",
    "ClusterType_test = np.zeros((size_test), dtype=np.ubyte)\n",
    "ClusterE_test = np.zeros((size_test), dtype=np.float32)\n",
    "ClusterPt_test = np.zeros((size_test), dtype=np.float32)\n",
    "ClusterModuleNumber_test = np.zeros((size_test), dtype=np.ubyte)\n",
    "ClusterX_test = np.zeros((size_test), dtype=np.ubyte)\n",
    "ClusterY_test = np.zeros((size_test), dtype=np.ubyte)\n",
    "ClusterM20_test = np.zeros((size_test), dtype=np.float32)\n",
    "ClusterM02_test = np.zeros((size_test), dtype= np.float32)\n",
    "PartE_test = np.zeros((size_test), dtype=np.float32)\n",
    "PartPt_test = np.zeros((size_test), dtype=np.float32)\n",
    "PartEta_test = np.zeros((size_test), dtype=np.float32)\n",
    "PartPhi_test = np.zeros((size_test), dtype=np.float32)\n",
    "PartIsPrimary_test = np.zeros((size_test), dtype=bool)\n",
    "PartPID_test = np.zeros((size_test), dtype=np.short)"
   ]
  },
  {
   "cell_type": "markdown",
   "id": "54a17275",
   "metadata": {},
   "source": [
    "# Load data into arrays"
   ]
  },
  {
   "cell_type": "code",
   "execution_count": 8,
   "id": "86063c31",
   "metadata": {},
   "outputs": [],
   "source": [
    "def load_into(arr,keyword, dataset):\n",
    "    if dataset == 'train':\n",
    "        arr[0:pi0_size_train] = data_pi0_train[keyword]\n",
    "        arr[pi0_size_train:pi0_size_train+eta_size_train] = data_eta_train[keyword]\n",
    "        arr[-bck_size_train:] = data_bck_train[keyword]\n",
    "    if dataset == 'test':\n",
    "        arr[0:pi0_size_test] = data_pi0_test[keyword]\n",
    "        arr[pi0_size_test:pi0_size_test+eta_size_test] = data_eta_test[keyword]\n",
    "        arr[-bck_size_test:] = data_bck_test[keyword]"
   ]
  },
  {
   "cell_type": "code",
   "execution_count": 9,
   "id": "c8ba96d9",
   "metadata": {},
   "outputs": [],
   "source": [
    "load_into(Cluster_train, 'Cluster', 'train')\n",
    "load_into(ClusterType_train, 'ClusterType', 'train')\n",
    "load_into(ClusterE_train, 'ClusterE', 'train')\n",
    "load_into(ClusterPt_train, 'ClusterPt', 'train')\n",
    "load_into(ClusterModuleNumber_train, 'ClusterModuleNumber', 'train')\n",
    "load_into(ClusterX_train, 'ClusterX', 'train')\n",
    "load_into(ClusterY_train, 'ClusterY', 'train')\n",
    "load_into(ClusterM20_train, 'ClusterM20','train')\n",
    "load_into(ClusterM02_train, 'ClusterM02','train')\n",
    "load_into(PartE_train, 'PartE','train')\n",
    "load_into(PartPt_train, 'PartPt','train')\n",
    "load_into(PartEta_train, 'PartEta', 'train')\n",
    "load_into(PartPhi_train, 'PartPhi', 'train')\n",
    "load_into(PartIsPrimary_train, 'PartIsPrimary', 'train')\n",
    "load_into(PartPID_train, 'PartPID', 'train')"
   ]
  },
  {
   "cell_type": "code",
   "execution_count": 10,
   "id": "aa8361e6",
   "metadata": {},
   "outputs": [],
   "source": [
    "load_into(Cluster_test, 'Cluster', 'test')\n",
    "load_into(ClusterType_test, 'ClusterType', 'test')\n",
    "load_into(ClusterE_test, 'ClusterE', 'test')\n",
    "load_into(ClusterPt_test, 'ClusterPt', 'test')\n",
    "load_into(ClusterModuleNumber_test, 'ClusterModuleNumber', 'test')\n",
    "load_into(ClusterX_test, 'ClusterX', 'test')\n",
    "load_into(ClusterY_test, 'ClusterY', 'test')\n",
    "load_into(ClusterM20_test, 'ClusterM20','test')\n",
    "load_into(ClusterM02_test, 'ClusterM02','test')\n",
    "load_into(PartE_test, 'PartE','test')\n",
    "load_into(PartPt_test, 'PartPt','test')\n",
    "load_into(PartEta_test, 'PartEta', 'test')\n",
    "load_into(PartPhi_test, 'PartPhi', 'test')\n",
    "load_into(PartIsPrimary_test, 'PartIsPrimary', 'test')\n",
    "load_into(PartPID_test, 'PartPID', 'test')"
   ]
  },
  {
   "cell_type": "markdown",
   "id": "dd8d5cf0",
   "metadata": {},
   "source": [
    "## Save the train- and test-datasets for further usage"
   ]
  },
  {
   "cell_type": "code",
   "execution_count": 13,
   "id": "b6807ae8",
   "metadata": {},
   "outputs": [],
   "source": [
    "np.savez_compressed('../CNN/Data/data_train', Cluster=Cluster_train\n",
    "                    , ClusterE=ClusterE_train, ClusterPt=ClusterPt_train\n",
    "                    , ClusterModuleNumber=ClusterModuleNumber_train, ClusterType=ClusterType_train\n",
    "                    , ClusterX=ClusterX_train, ClusterY=ClusterY_train, ClusterM02=ClusterM02_train\n",
    "                    , ClusterM20=ClusterM20_train, PartE=PartE_train, PartPt=PartPt_train\n",
    "                    , PartEta=PartEta_train, PartPhi=PartPhi_train, PartIsPrimary=PartIsPrimary_train\n",
    "                    , PartPID=PartPID_train)"
   ]
  },
  {
   "cell_type": "code",
   "execution_count": 14,
   "id": "f35f32d8",
   "metadata": {},
   "outputs": [],
   "source": [
    "np.savez_compressed('../CNN/Data/data_test', Cluster=Cluster_test\n",
    "                    , ClusterE=ClusterE_test, ClusterPt=ClusterPt_test\n",
    "                    , ClusterModuleNumber=ClusterModuleNumber_test, ClusterType=ClusterType_test\n",
    "                    , ClusterX=ClusterX_test, ClusterY=ClusterY_test, ClusterM02=ClusterM02_test\n",
    "                    , ClusterM20=ClusterM20_test, PartE=PartE_test, PartPt=PartPt_test\n",
    "                    , PartEta=PartEta_test, PartPhi=PartPhi_test, PartIsPrimary=PartIsPrimary_test\n",
    "                    , PartPID=PartPID_test)"
   ]
  },
  {
   "cell_type": "code",
   "execution_count": null,
   "id": "a7141738",
   "metadata": {},
   "outputs": [],
   "source": []
  }
 ],
 "metadata": {
  "kernelspec": {
   "display_name": "Python [conda env:root-env]",
   "language": "python",
   "name": "conda-env-root-env-py"
  },
  "language_info": {
   "codemirror_mode": {
    "name": "ipython",
    "version": 3
   },
   "file_extension": ".py",
   "mimetype": "text/x-python",
   "name": "python",
   "nbconvert_exporter": "python",
   "pygments_lexer": "ipython3",
   "version": "3.9.6"
  }
 },
 "nbformat": 4,
 "nbformat_minor": 5
}
