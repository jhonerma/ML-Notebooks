{
 "cells": [
  {
   "cell_type": "code",
   "execution_count": 233,
   "id": "a0800f1b",
   "metadata": {},
   "outputs": [],
   "source": [
    "import numpy as np\n",
    "import matplotlib.pyplot as plt\n",
    "import ROOT \n",
    "\n",
    "%matplotlib inline"
   ]
  },
  {
   "cell_type": "code",
   "execution_count": 3,
   "id": "50492247",
   "metadata": {},
   "outputs": [],
   "source": [
    "inFile = ROOT.TFile.Open(\"/home/jhonerma/ALICE_locAna_Output/pp_13TeV/sim/LHC17e5/000256417/LAOD/GammaCaloMergedML_1540.root\", \"READ\")\n",
    "tree = inFile.Get(\"00010113_411790106fe92200000_411790106fe92200001_0163300000000000_Cluster\")"
   ]
  },
  {
   "cell_type": "code",
   "execution_count": 5,
   "id": "c9c97d27",
   "metadata": {},
   "outputs": [
    {
     "name": "stdout",
     "output_type": "stream",
     "text": [
      "======> EVENT:0\n",
      " fClusterN       = 6\n",
      " fCol            = 15, \n",
      "                  14, 15, 14, 14, 15\n",
      " fRow            = 1, \n",
      "                  0, 0, 2, 1, 2\n",
      " fSupMod         = 0, \n",
      "                  0, 0, 0, 0, 0\n",
      " fTiming         = 6.15861e-07, \n",
      "                  6.1643e-07, 6.19219e-07, 6.28166e-07, 6.18154e-07, 6.16488e-07\n",
      " fEnergy         = 8.6707, \n",
      "                  0.20933, 0.502596, 0.100121, 1.17679, 0.26096\n"
     ]
    }
   ],
   "source": [
    "tree.Show(0)"
   ]
  },
  {
   "cell_type": "code",
   "execution_count": 85,
   "id": "cee82072",
   "metadata": {},
   "outputs": [
    {
     "name": "stdout",
     "output_type": "stream",
     "text": [
      "287\n"
     ]
    }
   ],
   "source": [
    "nentries = tree.GetEntries()\n",
    "print(nentries)"
   ]
  },
  {
   "cell_type": "code",
   "execution_count": 75,
   "id": "363a8623",
   "metadata": {},
   "outputs": [],
   "source": [
    "ClusterN = np.zeros((nentries), dtype=int)\n",
    "_clusterN = np.zeros((1), dtype=int)\n",
    "tree.SetBranchAddress(\"fClusterN\", _clusterN)\n",
    "\n",
    "for i in range(nentries):\n",
    "    tree.GetEntry(i)\n",
    "    ClusterN[i] = _clusterN\n",
    "    \n",
    "maxClusN = int(np.max(ClusterN))"
   ]
  },
  {
   "cell_type": "code",
   "execution_count": 76,
   "id": "c3b8bdee",
   "metadata": {},
   "outputs": [
    {
     "name": "stdout",
     "output_type": "stream",
     "text": [
      "15\n"
     ]
    }
   ],
   "source": [
    "print(maxClusN)"
   ]
  },
  {
   "cell_type": "code",
   "execution_count": 92,
   "id": "922ff5eb",
   "metadata": {},
   "outputs": [],
   "source": [
    "Col = np.zeros((nentries, maxClusN), dtype=np.ubyte)\n",
    "Row = np.zeros((nentries, maxClusN), dtype=np.ubyte)\n",
    "SupMod = np.zeros((nentries, maxClusN), dtype=np.ubyte)\n",
    "Timing = np.zeros((nentries, maxClusN))\n",
    "Energy = np.zeros((nentries, maxClusN))\n",
    "\n",
    "_col = np.zeros((maxClusN), dtype=np.ubyte)\n",
    "_row = np.zeros((maxClusN), dtype=np.ubyte)\n",
    "_supmod = np.zeros((maxClusN), dtype=np.ubyte)\n",
    "_timing = np.zeros((maxClusN), dtype=np.float32)\n",
    "_energy = np.zeros((maxClusN), dtype=np.float32)\n",
    "\n",
    "tree.SetBranchAddress(\"fCol\", _col)\n",
    "tree.SetBranchAddress(\"fRow\", _row)\n",
    "tree.SetBranchAddress(\"fSupMod\", _supmod)\n",
    "tree.SetBranchAddress(\"fTiming\", _timing)\n",
    "tree.SetBranchAddress(\"fEnergy\", _energy)\n",
    "\n",
    "\n",
    "for i in range(0,nentries):\n",
    "    tree.GetEntry(i)\n",
    "    Col[i,:ClusterN[i]] = _col[:ClusterN[i]]\n",
    "    Row[i,:ClusterN[i]] = _row[:ClusterN[i]]\n",
    "    SupMod[i,:ClusterN[i]] = _supmod[:ClusterN[i]]\n",
    "    Timing[i,:ClusterN[i]] = _timing[:ClusterN[i]]\n",
    "    Energy[i,:ClusterN[i]] = _energy[:ClusterN[i]]"
   ]
  },
  {
   "cell_type": "code",
   "execution_count": 115,
   "id": "bd5222a8",
   "metadata": {},
   "outputs": [
    {
     "data": {
      "text/plain": [
       "array([11, 11, 11, 10, 11, 11, 11,  0,  0,  0,  0,  0,  0,  0,  0],\n",
       "      dtype=uint8)"
      ]
     },
     "execution_count": 115,
     "metadata": {},
     "output_type": "execute_result"
    }
   ],
   "source": [
    "SupMod[145]"
   ]
  },
  {
   "cell_type": "code",
   "execution_count": 113,
   "id": "82e5e0c1",
   "metadata": {},
   "outputs": [
    {
     "data": {
      "text/plain": [
       "array([ 0,  1,  0, 47,  1,  1,  0,  0,  0,  0,  0,  0,  0,  0,  0],\n",
       "      dtype=uint8)"
      ]
     },
     "execution_count": 113,
     "metadata": {},
     "output_type": "execute_result"
    }
   ],
   "source": [
    "Col[145]"
   ]
  },
  {
   "cell_type": "code",
   "execution_count": 114,
   "id": "6e63e434",
   "metadata": {},
   "outputs": [
    {
     "data": {
      "text/plain": [
       "array([3, 2, 2, 3, 4, 3, 4, 0, 0, 0, 0, 0, 0, 0, 0], dtype=uint8)"
      ]
     },
     "execution_count": 114,
     "metadata": {},
     "output_type": "execute_result"
    }
   ],
   "source": [
    "Row[145]"
   ]
  },
  {
   "cell_type": "code",
   "execution_count": 96,
   "id": "e781a008",
   "metadata": {},
   "outputs": [
    {
     "name": "stdout",
     "output_type": "stream",
     "text": [
      "0 [0 0 0 0 0 0]\n",
      "1 [8 8 8 8]\n",
      "2 [15 15 15 15]\n",
      "3 [2 2 2 2 2 2]\n",
      "4 [5 5 5]\n",
      "5 [10 10 10 10 10 10 10 10 10]\n",
      "6 [16 16]\n",
      "7 [13 13 13 13 13]\n",
      "8 [9 9 9 9 9 9 9]\n",
      "9 [17 17 17 17]\n",
      "10 [3 3 3 3 3]\n",
      "11 [5 5 5 5 5 5 5]\n",
      "12 [8 8 8 8 8]\n",
      "13 [3 3 3 3 3]\n",
      "14 [15 15 15 15 15]\n",
      "15 [4 4 4 4 4 4 4 4 4 4]\n",
      "16 [8 8 8 8 8 8 8 8]\n",
      "17 [14 14 14 14 14]\n",
      "18 [6 6 6 6]\n",
      "19 [17 17 17 17 17 17]\n",
      "20 [5 5 5 5 5 5 5 5 5 5]\n",
      "21 [11 11 11 11 11 11 11 11 11 11]\n",
      "22 [9 9]\n",
      "23 [13 13 13]\n",
      "24 [1 1 1 1 1 1]\n",
      "25 [2 2 2 2 2]\n",
      "26 [3 3 3 3 3 3 3 3]\n",
      "27 [7 7 7 7 7 7]\n",
      "28 [12 12 12 12]\n",
      "29 [14 14 14 14 14 14 14 14]\n",
      "30 [4 4 4 4 4 4]\n",
      "31 [9 9]\n",
      "32 [4 4 4 4 4]\n",
      "33 [15 15 15 15 15]\n",
      "34 [2 2 2 2]\n",
      "35 [2 2 2 2 2 2 2]\n",
      "36 [8 8 8 8]\n",
      "37 [4 4 4 4]\n",
      "38 [4 4 4]\n",
      "39 [0 0 0 0]\n",
      "40 [4 4 4 4]\n",
      "41 [8 8 8 8]\n",
      "42 [16 16 16 16 16]\n",
      "43 [0 0 0 0 0]\n",
      "44 [12 12 12 12]\n",
      "45 [0 0 0 0 0 0 0]\n",
      "46 [13 13 13]\n",
      "47 [6 6 6 6 6 6]\n",
      "48 [1 1 1]\n",
      "49 [9 9 9 9 9 9 9]\n",
      "50 [1 1 1 1 1 1]\n",
      "51 [12 12 12 12 12 12 12]\n",
      "52 [9 9 9 9 9 9]\n",
      "53 [8 8 8 8 8 8 8 8 8 8 9 8 8]\n",
      "54 [8 8 8 9 8 8 8 8 8 8 8 8]\n",
      "55 [2 2 2]\n",
      "56 [10 10 10 10 10 10]\n",
      "57 [5 5 5]\n",
      "58 [10 10 10 10]\n",
      "59 [3 3 3 3 3 3 3 3 3 3]\n",
      "60 [9 9 9 9]\n",
      "61 [1 1 1 1 1 1]\n",
      "62 [6 6 6 6]\n",
      "63 [0 0 0 0 0]\n",
      "64 [3 3 3 3 3 3 3]\n",
      "65 [12 12 12 12]\n",
      "66 [15 15 15]\n",
      "67 [6 6 6 6]\n",
      "68 [10 10 10 10]\n",
      "69 [7 7 7 7 7 7 7 7 7 7]\n",
      "70 [4 4 4 4 4]\n",
      "71 [12 12 12 12 12 12]\n",
      "72 [4 4 4 4 4]\n",
      "73 [14 14 14 14]\n",
      "74 [6 6 6 6]\n",
      "75 [0 0 0 0 0]\n",
      "76 [5 5 5 5]\n",
      "77 [5 5 5 5 5]\n",
      "78 [9 9 9 9 9 9 9]\n",
      "79 [14 14 14 14 14 14 14 14 14]\n",
      "80 [3 3 3 3 3 3 3 3 3 3 3 3 3 3 3]\n",
      "81 [7 7 7 7 7]\n",
      "82 [3 3 3 3 3 3 3]\n",
      "83 [14 14 14 14 14]\n",
      "84 [9 9 9 9]\n",
      "85 [8 8 8 8 8]\n",
      "86 [7 7 7 7 7 7 7]\n",
      "87 [8 8 8 8]\n",
      "88 [15 15 15 15 15 15 15 15 15]\n",
      "89 [10 10 10 10 10]\n",
      "90 [13 13 13 13 13 13]\n",
      "91 [12 12 12]\n",
      "92 [4 4 4 4 4]\n",
      "93 [16 16 16 16]\n",
      "94 [15 15 15 15 15 15]\n",
      "95 [4 4 4 4 4 4]\n",
      "96 [10 10 10 10 10 10]\n",
      "97 [9 9 9 9 9]\n",
      "98 [6 6 6 6 6]\n",
      "99 [7 7 7 7]\n",
      "100 [7 7 7 7]\n",
      "101 [1 1 1 1 1 1 1]\n",
      "102 [7 7 7 7 7 7 7 7 7 7]\n",
      "103 [4 4 4 4]\n",
      "104 [14 14 14 14]\n",
      "105 [4 4 4 4 4 4 4]\n",
      "106 [7 7 7 7 7 7 7 7]\n",
      "107 [9 9 9 9]\n",
      "108 [6 6 6 6]\n",
      "109 [13 13 13 13 13 13]\n",
      "110 [16 16 16]\n",
      "111 [17 17 17 17 17 17 17 17 17 17 17]\n",
      "112 [15 15 15 15]\n",
      "113 [12 12 12 12]\n",
      "114 [2 2 2 2 2 2 2 2 2]\n",
      "115 [7 7 7 7]\n",
      "116 [9 9 9 9]\n",
      "117 [15 15 15 15]\n",
      "118 [11 11]\n",
      "119 [8 8 8 8 8]\n",
      "120 [14 14 14]\n",
      "121 [7 7 7 7 7]\n",
      "122 [9 9 9 9 9 9]\n",
      "123 [1 1 1 1 1 1 1]\n",
      "124 [3 3 3]\n",
      "125 [15 15 15 15]\n",
      "126 [0 0 0 0 0 0 0]\n",
      "127 [7 7 7 7 7 7]\n",
      "128 [2 2 2 2 2 2]\n",
      "129 [4 4 4 4 4]\n",
      "130 [3 3 3 3]\n",
      "131 [4 4 4 4]\n",
      "132 [7 7 7 7 7 7]\n",
      "133 [1 1 1 1]\n",
      "134 [6 6 6 6 6]\n",
      "135 [7 7 7 7 7]\n",
      "136 [16 16 16 16 16]\n",
      "137 [15 15 15 15 15 15]\n",
      "138 [0 0 0 0 0 0 0 0]\n",
      "139 [0 0 0 0 0 0 0]\n",
      "140 [11 11 11 11]\n",
      "141 [14 14 14 14 14]\n",
      "142 [12 12 12 12]\n",
      "143 [14 14 14 14 14 14 14 14]\n",
      "144 [11 11 11 11]\n",
      "145 [11 11 11 10 11 11 11]\n",
      "146 [5 5 5 5 5 5 5 5 5 5]\n",
      "147 [1 1 1 1 1]\n",
      "148 [3 3 3 3 3 3]\n",
      "149 [3 3 3 3]\n",
      "150 [13 13 13 13]\n",
      "151 [12 12 12 12 12 12 12 12 12]\n",
      "152 [9 9 9 9 9 9]\n",
      "153 [0 0 0 0 0]\n",
      "154 [10 10 10 10]\n",
      "155 [9 9 9 9 9 9 9]\n",
      "156 [4 4 4 4 4 4]\n",
      "157 [8 8 8 8 8 8]\n",
      "158 [17 17 17 17 17 17 17 17 17 17 17]\n",
      "159 [17 17 17 17 17 17]\n",
      "160 [5 5 5 5 5]\n",
      "161 [9 9 9 9]\n",
      "162 [12 12 12 12]\n",
      "163 [2 2 2 2 2 2 2]\n",
      "164 [2 2 2 2 2 2 2]\n",
      "165 [2 2 2 2 2]\n",
      "166 [9 9 9]\n",
      "167 [4 4 4 4 4]\n",
      "168 [6 6 6 6 6 6 6 6 6]\n",
      "169 [14 14 14 14 14]\n",
      "170 [4 4 4 4 4 4 4 4 4 4]\n",
      "171 [16 16 16 16]\n",
      "172 [8 8 8 8]\n",
      "173 [1 1 1 1 1 1]\n",
      "174 [4 4 4 4]\n",
      "175 [0 0 0 0]\n",
      "176 [4 4 4 4 4]\n",
      "177 [9 9 9 9 9 9]\n",
      "178 [5 5 5 5]\n",
      "179 [15 15 15 15]\n",
      "180 [8 8 8 8]\n",
      "181 [5 5 5 5]\n",
      "182 [3 3 3 3]\n",
      "183 [4 4 4 4]\n",
      "184 [6 6 6 6 6 6 6]\n",
      "185 [9 9 9 9 9 9 9]\n",
      "186 [1 1 1 1]\n",
      "187 [7 7 7]\n",
      "188 [7 7 7 7 7 7]\n",
      "189 [8 8 8]\n",
      "190 [0 0 0 0]\n",
      "191 [9 9 9 9 9 9 9 9 9 9]\n",
      "192 [9 9 9]\n",
      "193 [13 13 13 13 13 13 13 13 13]\n",
      "194 [13 13 13 13 13 13]\n",
      "195 [13 13 13 13 13 13 13 13 13 13 13 13 13]\n",
      "196 [0 0 0]\n",
      "197 [17 17 17 17 17 17 17 17]\n",
      "198 [4 4 4 4]\n",
      "199 [15 15 15 15 15 15]\n",
      "200 [9 9 9 9]\n",
      "201 [14 14 14 14 14]\n",
      "202 [9 9 9 9 9 9 9]\n",
      "203 [12 12 12 12 12]\n",
      "204 [5 5 5 5 5 5]\n",
      "205 [6 6 6 6]\n",
      "206 [7 7 7 7 7 7 7]\n",
      "207 [2 2 2 2 2 2]\n",
      "208 [1 1]\n",
      "209 [7 7 7 7]\n",
      "210 [1 1 1 1 1 1 1 1 1 1]\n",
      "211 [1 1]\n",
      "212 [12 12 12]\n",
      "213 [9 9 9 9 9]\n",
      "214 [3 3 3 3 3 3]\n",
      "215 [5 5 5 5]\n",
      "216 [4 4 4 4 4 4]\n",
      "217 [5 5 5 5]\n",
      "218 [6 6 6 6 6]\n",
      "219 [8 8 8 8]\n",
      "220 [8 8 8 8 8 8]\n",
      "221 [10 10 10 10]\n",
      "222 [4 4 4 4 4 4 4 4]\n",
      "223 [17 17 17]\n",
      "224 [0 0 0 0 0 0]\n",
      "225 [1 1 1 1 1]\n",
      "226 [0 0 0 0 0 0 0]\n",
      "227 [17 17 17 17]\n",
      "228 [17 17 17 17 17 17 17 17]\n",
      "229 [3 3 3 3 3 3 3 3 3]\n",
      "230 [5 5 5 5 5 5]\n",
      "231 [6 6 6 6 6]\n",
      "232 [2 2 2 2 2 2 2]\n",
      "233 [12 12 12]\n",
      "234 [8 8 8]\n",
      "235 [2 2 2 2]\n",
      "236 [4 4 4 4 4 4]\n",
      "237 [17 17 17 17 17]\n",
      "238 [1 1 1 1]\n",
      "239 [4 4 4 4]\n",
      "240 [17 17 17]\n",
      "241 [7 7 7 7 7 7 7 7 7 7 7]\n",
      "242 [8 8 8 8 8 8]\n",
      "243 [12 12 12 12]\n",
      "244 [6 6 6]\n",
      "245 [7 7 7 7]\n",
      "246 [14 14 14 14 14]\n",
      "247 [2 2 2 2]\n",
      "248 [3 3]\n",
      "249 [6 6 6 6 6 6]\n",
      "250 [5 5 5 5 5]\n",
      "251 [1 1]\n",
      "252 [4 4 4 4 4 4 4 4 4 4]\n",
      "253 [0 0 0 0 0]\n",
      "254 [14 14 14 14 14 14 14]\n",
      "255 [3 3 3 3 3 3 3]\n",
      "256 [6 6 6 6 6 6]\n",
      "257 [2 2 2 2 2 2 2 2 2 2 2]\n",
      "258 [8 8 8 8 8]\n",
      "259 [13 13 13 13]\n",
      "260 [3 3 3 3 3 3 3]\n",
      "261 [6 6 6]\n",
      "262 [3 3 3]\n",
      "263 [11 11 11]\n",
      "264 [1 1 1 1 1 1 1 1 1]\n",
      "265 [9 9 9]\n",
      "266 [4 4 4 4 4]\n",
      "267 [8 8 8]\n",
      "268 [7 7 7 7 7 7 7 7 7 7 7 7]\n",
      "269 [13 13 13 13 13 13]\n",
      "270 [10 10 10 10]\n",
      "271 [17 17 17 17 17 17]\n",
      "272 [1 1 1]\n",
      "273 [3 3 3 3]\n",
      "274 [2 2 2]\n",
      "275 [5 5 5 5 5]\n",
      "276 [1 1 1 1 1]\n",
      "277 [9 9 9 9]\n",
      "278 [7 7 7 7 7]\n",
      "279 [4 4 4 4]\n",
      "280 [12 12 12 12]\n",
      "281 [1 1 1 1 1]\n",
      "282 [1 1 1 1 1]\n",
      "283 [7 7 7 7 7 7 7 7 7]\n",
      "284 [13 13 13 13]\n",
      "285 [4 4 4 4 4]\n",
      "286 [9 9 9 9]\n"
     ]
    }
   ],
   "source": [
    "for i in range(nentries):\n",
    "    print(i, SupMod[i, 0:(ClusterN[i])])"
   ]
  },
  {
   "cell_type": "code",
   "execution_count": 226,
   "id": "71589432",
   "metadata": {},
   "outputs": [],
   "source": [
    "def reconstruct_cluster(ncell, supmod, row, col, data):\n",
    "    if( np.all(supmod[:ncell] == supmod[0]) ):\n",
    "        \n",
    "        arrsize = 10\n",
    "        arr = np.zeros((arrsize,arrsize))\n",
    "        \n",
    "        col_min = np.min(col[:ncell])\n",
    "        row_min = np.min(row[:ncell])\n",
    "        width = np.max(col) - col_min\n",
    "        height = np.max(row) - row_min\n",
    "        offset_h = int((arrsize-height)/2)\n",
    "        offset_w = int((arrsize-width)/2)\n",
    "        \n",
    "        \n",
    "        for i in range(ncell):\n",
    "            arr[ row[i] - row_min + offset_h, col[i] - col_min + offset_w ] = data[i]\n",
    "   \n",
    "        return arr"
   ]
  },
  {
   "cell_type": "code",
   "execution_count": 291,
   "id": "8b791698",
   "metadata": {},
   "outputs": [],
   "source": [
    "def plot_cluster(ncell, supmod, row, col, data):\n",
    "    #Number of plots\n",
    "    Num = 16\n",
    "    \n",
    "    #Convert them from an unsigned datatype to signed\n",
    "    supmod = supmod.astype(int)\n",
    "    row = row.astype(int)\n",
    "    col = col.astype(int)\n",
    "\n",
    "    #Create Num random numbers\n",
    "    rand = np.random.randint(0,nentries, size=Num)\n",
    "    arrs = []\n",
    "        \n",
    "    for i in range(Num):\n",
    "        arr = reconstruct_cluster(ncell[i], supmod[i], row[i], col[i], data[i])\n",
    "        arrs.append(arr)\n",
    "        \n",
    "    #Plots\n",
    "    pCols = 4\n",
    "    pRows = int(np.ceil(Num/pCols))\n",
    "    \n",
    "    max_d = np.max(data[rand])\n",
    "    \n",
    "    fig, axs = plt.subplots(pRows, pCols, figsize=(12,12), subplot_kw={'xticks': [], 'yticks': []}, constrained_layout=True)\n",
    "    \n",
    "    for i, ax in enumerate(axs.flat):\n",
    "        im = ax.imshow(arrs[i], cmap='viridis', vmin=0, vmax=max_d)\n",
    "   \n",
    "    fig.colorbar(im, ax=axs.ravel().tolist())\n",
    "    plt.show()\n",
    "    "
   ]
  },
  {
   "cell_type": "code",
   "execution_count": 328,
   "id": "b7c79016",
   "metadata": {},
   "outputs": [],
   "source": [
    "def scaleto01(data, ncell):\n",
    "    for i in range(data.shape[0]):\n",
    "        if i == 0:\n",
    "            _min = np.min(data[i,:ncell[i]])\n",
    "        else:\n",
    "            _tmp = np.min(data[i,:ncell[i]])\n",
    "            \n",
    "    \n",
    "        \n",
    "    \n",
    "    _max = np.max(data)\n",
    "    _dif = _max - _min\n",
    "    data = (data - _min) / _dif\n",
    "    return data"
   ]
  },
  {
   "cell_type": "code",
   "execution_count": 326,
   "id": "30423b2c",
   "metadata": {},
   "outputs": [],
   "source": [
    "def plot_comp(ncell, supmod, row, col, timing, energy):\n",
    "    #Number of plots\n",
    "    Num = 8\n",
    "    \n",
    "    timing = scaleto01(timing, ncell)\n",
    "    energy = scaleto01(energy, ncell)\n",
    "    \n",
    "    #Convert them from an unsigned datatype to signed\n",
    "    supmod = supmod.astype(int)\n",
    "    row = row.astype(int)\n",
    "    col = col.astype(int)\n",
    "\n",
    "    #Create Num random numbers\n",
    "    rand = np.random.randint(0,nentries, size=Num)\n",
    "    arr_e = []\n",
    "    arr_t = []\n",
    "        \n",
    "    for i in range(Num):\n",
    "        arr = reconstruct_cluster(ncell[i], supmod[i], row[i], col[i], energy[i])\n",
    "        arr_e.append(arr)\n",
    "        arr = reconstruct_cluster(ncell[i], supmod[i], row[i], col[i], timing[i])\n",
    "        arr_t.append(arr)\n",
    "        \n",
    "    #Plots\n",
    "    pCols = 4\n",
    "    pRows = int(np.ceil(2*Num/pCols))\n",
    "    \n",
    "    \n",
    "    max_e = np.max(energy[rand])\n",
    "    max_t = np.max(timing[rand])\n",
    "    \n",
    "    fig, axs = plt.subplots(pRows, pCols, figsize=(12,12), subplot_kw={'xticks': [], 'yticks': []}, constrained_layout=True)\n",
    "    \n",
    "    for i in range(pRows):\n",
    "        for j in range(pCols):\n",
    "            ax = axs[i,j]\n",
    "            if(np.mod(i,2) == 1):\n",
    "                im = ax.imshow(arr_t[j+(i-1)*2], cmap='viridis', vmin=0, vmax=max_t)\n",
    "            else:\n",
    "                im = ax.imshow(arr_e[j+i*2], cmap='viridis', vmin=0, vmax=max_e)\n",
    "   \n",
    "    #fig.colorbar(im, ax=axs.ravel().tolist())\n",
    "    plt.show()"
   ]
  },
  {
   "cell_type": "code",
   "execution_count": 323,
   "id": "34a82da9",
   "metadata": {},
   "outputs": [
    {
     "data": {
      "image/png": "[encoded data removed]",
      "text/plain": [
       "<Figure size 864x864 with 17 Axes>"
      ]
     },
     "metadata": {
      "needs_background": "light"
     },
     "output_type": "display_data"
    }
   ],
   "source": [
    "plot_cluster(ClusterN, SupMod, Row, Col, Energy)"
   ]
  },
  {
   "cell_type": "code",
   "execution_count": 329,
   "id": "1749cece",
   "metadata": {},
   "outputs": [
    {
     "name": "stderr",
     "output_type": "stream",
     "text": [
      "/home/jhonerma/anaconda3/envs/root-env/lib/python3.9/site-packages/numpy/core/fromnumeric.py:86: VisibleDeprecationWarning: Creating an ndarray from ragged nested sequences (which is a list-or-tuple of lists-or-tuples-or ndarrays with different lengths or shapes) is deprecated. If you meant to do this, you must specify 'dtype=object' when creating the ndarray.\n",
      "  return ufunc.reduce(obj, axis, dtype, out, **passkwargs)\n"
     ]
    },
    {
     "ename": "ValueError",
     "evalue": "The truth value of an array with more than one element is ambiguous. Use a.any() or a.all()",
     "output_type": "error",
     "traceback": [
      "\u001b[0;31m---------------------------------------------------------------------------\u001b[0m",
      "\u001b[0;31mValueError\u001b[0m                                Traceback (most recent call last)",
      "\u001b[0;32m/tmp/ipykernel_70963/3987358356.py\u001b[0m in \u001b[0;36m<module>\u001b[0;34m\u001b[0m\n\u001b[0;32m----> 1\u001b[0;31m \u001b[0mplot_comp\u001b[0m\u001b[0;34m(\u001b[0m\u001b[0mClusterN\u001b[0m\u001b[0;34m,\u001b[0m \u001b[0mSupMod\u001b[0m\u001b[0;34m,\u001b[0m \u001b[0mRow\u001b[0m\u001b[0;34m,\u001b[0m \u001b[0mCol\u001b[0m\u001b[0;34m,\u001b[0m \u001b[0mTiming\u001b[0m\u001b[0;34m,\u001b[0m \u001b[0mEnergy\u001b[0m\u001b[0;34m)\u001b[0m\u001b[0;34m\u001b[0m\u001b[0;34m\u001b[0m\u001b[0m\n\u001b[0m",
      "\u001b[0;32m/tmp/ipykernel_70963/43188859.py\u001b[0m in \u001b[0;36mplot_comp\u001b[0;34m(ncell, supmod, row, col, timing, energy)\u001b[0m\n\u001b[1;32m      3\u001b[0m     \u001b[0mNum\u001b[0m \u001b[0;34m=\u001b[0m \u001b[0;36m8\u001b[0m\u001b[0;34m\u001b[0m\u001b[0;34m\u001b[0m\u001b[0m\n\u001b[1;32m      4\u001b[0m \u001b[0;34m\u001b[0m\u001b[0m\n\u001b[0;32m----> 5\u001b[0;31m     \u001b[0mtiming\u001b[0m \u001b[0;34m=\u001b[0m \u001b[0mscaleto01\u001b[0m\u001b[0;34m(\u001b[0m\u001b[0mtiming\u001b[0m\u001b[0;34m,\u001b[0m \u001b[0mncell\u001b[0m\u001b[0;34m)\u001b[0m\u001b[0;34m\u001b[0m\u001b[0;34m\u001b[0m\u001b[0m\n\u001b[0m\u001b[1;32m      6\u001b[0m     \u001b[0menergy\u001b[0m \u001b[0;34m=\u001b[0m \u001b[0mscaleto01\u001b[0m\u001b[0;34m(\u001b[0m\u001b[0menergy\u001b[0m\u001b[0;34m,\u001b[0m \u001b[0mncell\u001b[0m\u001b[0;34m)\u001b[0m\u001b[0;34m\u001b[0m\u001b[0;34m\u001b[0m\u001b[0m\n\u001b[1;32m      7\u001b[0m \u001b[0;34m\u001b[0m\u001b[0m\n",
      "\u001b[0;32m/tmp/ipykernel_70963/2792015704.py\u001b[0m in \u001b[0;36mscaleto01\u001b[0;34m(data, ncell)\u001b[0m\n\u001b[1;32m      3\u001b[0m         \u001b[0;32mif\u001b[0m \u001b[0mi\u001b[0m \u001b[0;34m==\u001b[0m \u001b[0;36m0\u001b[0m\u001b[0;34m:\u001b[0m\u001b[0;34m\u001b[0m\u001b[0;34m\u001b[0m\u001b[0m\n\u001b[1;32m      4\u001b[0m             \u001b[0m_min\u001b[0m \u001b[0;34m=\u001b[0m \u001b[0mnp\u001b[0m\u001b[0;34m.\u001b[0m\u001b[0mmin\u001b[0m\u001b[0;34m(\u001b[0m\u001b[0mdata\u001b[0m\u001b[0;34m[\u001b[0m\u001b[0mi\u001b[0m\u001b[0;34m,\u001b[0m\u001b[0;34m:\u001b[0m\u001b[0mncell\u001b[0m\u001b[0;34m[\u001b[0m\u001b[0mi\u001b[0m\u001b[0;34m]\u001b[0m\u001b[0;34m]\u001b[0m\u001b[0;34m)\u001b[0m\u001b[0;34m\u001b[0m\u001b[0;34m\u001b[0m\u001b[0m\n\u001b[0;32m----> 5\u001b[0;31m         \u001b[0m_min\u001b[0m \u001b[0;34m=\u001b[0m \u001b[0mnp\u001b[0m\u001b[0;34m.\u001b[0m\u001b[0mmin\u001b[0m\u001b[0;34m(\u001b[0m\u001b[0;34m[\u001b[0m\u001b[0m_min\u001b[0m\u001b[0;34m,\u001b[0m \u001b[0mdata\u001b[0m\u001b[0;34m[\u001b[0m\u001b[0mi\u001b[0m\u001b[0;34m,\u001b[0m\u001b[0;34m:\u001b[0m\u001b[0mncell\u001b[0m\u001b[0;34m[\u001b[0m\u001b[0mi\u001b[0m\u001b[0;34m]\u001b[0m\u001b[0;34m]\u001b[0m\u001b[0;34m]\u001b[0m\u001b[0;34m)\u001b[0m\u001b[0;34m\u001b[0m\u001b[0;34m\u001b[0m\u001b[0m\n\u001b[0m\u001b[1;32m      6\u001b[0m \u001b[0;34m\u001b[0m\u001b[0m\n\u001b[1;32m      7\u001b[0m \u001b[0;34m\u001b[0m\u001b[0m\n",
      "\u001b[0;32m<__array_function__ internals>\u001b[0m in \u001b[0;36mamin\u001b[0;34m(*args, **kwargs)\u001b[0m\n",
      "\u001b[0;32m~/anaconda3/envs/root-env/lib/python3.9/site-packages/numpy/core/fromnumeric.py\u001b[0m in \u001b[0;36mamin\u001b[0;34m(a, axis, out, keepdims, initial, where)\u001b[0m\n\u001b[1;32m   2877\u001b[0m     \u001b[0;36m6\u001b[0m\u001b[0;34m\u001b[0m\u001b[0;34m\u001b[0m\u001b[0m\n\u001b[1;32m   2878\u001b[0m     \"\"\"\n\u001b[0;32m-> 2879\u001b[0;31m     return _wrapreduction(a, np.minimum, 'min', axis, None, out,\n\u001b[0m\u001b[1;32m   2880\u001b[0m                           keepdims=keepdims, initial=initial, where=where)\n\u001b[1;32m   2881\u001b[0m \u001b[0;34m\u001b[0m\u001b[0m\n",
      "\u001b[0;32m~/anaconda3/envs/root-env/lib/python3.9/site-packages/numpy/core/fromnumeric.py\u001b[0m in \u001b[0;36m_wrapreduction\u001b[0;34m(obj, ufunc, method, axis, dtype, out, **kwargs)\u001b[0m\n\u001b[1;32m     84\u001b[0m                 \u001b[0;32mreturn\u001b[0m \u001b[0mreduction\u001b[0m\u001b[0;34m(\u001b[0m\u001b[0maxis\u001b[0m\u001b[0;34m=\u001b[0m\u001b[0maxis\u001b[0m\u001b[0;34m,\u001b[0m \u001b[0mout\u001b[0m\u001b[0;34m=\u001b[0m\u001b[0mout\u001b[0m\u001b[0;34m,\u001b[0m \u001b[0;34m**\u001b[0m\u001b[0mpasskwargs\u001b[0m\u001b[0;34m)\u001b[0m\u001b[0;34m\u001b[0m\u001b[0;34m\u001b[0m\u001b[0m\n\u001b[1;32m     85\u001b[0m \u001b[0;34m\u001b[0m\u001b[0m\n\u001b[0;32m---> 86\u001b[0;31m     \u001b[0;32mreturn\u001b[0m \u001b[0mufunc\u001b[0m\u001b[0;34m.\u001b[0m\u001b[0mreduce\u001b[0m\u001b[0;34m(\u001b[0m\u001b[0mobj\u001b[0m\u001b[0;34m,\u001b[0m \u001b[0maxis\u001b[0m\u001b[0;34m,\u001b[0m \u001b[0mdtype\u001b[0m\u001b[0;34m,\u001b[0m \u001b[0mout\u001b[0m\u001b[0;34m,\u001b[0m \u001b[0;34m**\u001b[0m\u001b[0mpasskwargs\u001b[0m\u001b[0;34m)\u001b[0m\u001b[0;34m\u001b[0m\u001b[0;34m\u001b[0m\u001b[0m\n\u001b[0m\u001b[1;32m     87\u001b[0m \u001b[0;34m\u001b[0m\u001b[0m\n\u001b[1;32m     88\u001b[0m \u001b[0;34m\u001b[0m\u001b[0m\n",
      "\u001b[0;31mValueError\u001b[0m: The truth value of an array with more than one element is ambiguous. Use a.any() or a.all()"
     ]
    }
   ],
   "source": [
    "plot_comp(ClusterN, SupMod, Row, Col, Timing, Energy)"
   ]
  },
  {
   "cell_type": "code",
   "execution_count": 321,
   "id": "09805658",
   "metadata": {},
   "outputs": [
    {
     "data": {
      "text/plain": [
       "(array([[0., 0., 0., ..., 0., 0., 0.],\n",
       "        [0., 0., 0., ..., 0., 0., 0.],\n",
       "        [0., 0., 0., ..., 0., 0., 0.],\n",
       "        ...,\n",
       "        [0., 0., 0., ..., 0., 0., 0.],\n",
       "        [0., 0., 0., ..., 0., 0., 0.],\n",
       "        [0., 0., 0., ..., 0., 0., 0.]]),\n",
       " array([5.74302305e-07, 5.83641247e-07, 5.92980189e-07, 6.02319130e-07,\n",
       "        6.11658072e-07, 6.20997014e-07, 6.30335956e-07, 6.39674897e-07,\n",
       "        6.49013839e-07, 6.58352781e-07, 6.67691722e-07]),\n",
       " <a list of 287 BarContainer objects>)"
      ]
     },
     "execution_count": 321,
     "metadata": {},
     "output_type": "execute_result"
    },
    {
     "data": {
      "image/png": "[encoded data removed]",
      "text/plain": [
       "<Figure size 432x288 with 1 Axes>"
      ]
     },
     "metadata": {
      "needs_background": "light"
     },
     "output_type": "display_data"
    }
   ],
   "source": [
    "_list = []\n",
    "for i in range(nentries):\n",
    "    _list.append(Timing[i,:ClusterN[i]])\n",
    "    \n",
    "plt.hist(_list)"
   ]
  },
  {
   "cell_type": "code",
   "execution_count": 320,
   "id": "f79d8dcf",
   "metadata": {},
   "outputs": [
    {
     "data": {
      "text/plain": [
       "array([[6.15860813e-07, 6.16430214e-07, 6.19218895e-07, ...,\n",
       "        0.00000000e+00, 0.00000000e+00, 0.00000000e+00],\n",
       "       [6.16019577e-07, 6.09264646e-07, 6.19870605e-07, ...,\n",
       "        0.00000000e+00, 0.00000000e+00, 0.00000000e+00],\n",
       "       [6.16158957e-07, 6.14906298e-07, 6.15436136e-07, ...,\n",
       "        0.00000000e+00, 0.00000000e+00, 0.00000000e+00],\n",
       "       ...,\n",
       "       [6.17875912e-07, 6.18850265e-07, 6.17065041e-07, ...,\n",
       "        0.00000000e+00, 0.00000000e+00, 0.00000000e+00],\n",
       "       [6.16835166e-07, 6.29624481e-07, 6.26992346e-07, ...,\n",
       "        0.00000000e+00, 0.00000000e+00, 0.00000000e+00],\n",
       "       [6.15350189e-07, 6.06512344e-07, 6.14389307e-07, ...,\n",
       "        0.00000000e+00, 0.00000000e+00, 0.00000000e+00]])"
      ]
     },
     "execution_count": 320,
     "metadata": {},
     "output_type": "execute_result"
    }
   ],
   "source": []
  },
  {
   "cell_type": "code",
   "execution_count": null,
   "id": "c34ee2c3",
   "metadata": {},
   "outputs": [],
   "source": []
  }
 ],
 "metadata": {
  "kernelspec": {
   "display_name": "Python [conda env:root-env]",
   "language": "python",
   "name": "conda-env-root-env-py"
  },
  "language_info": {
   "codemirror_mode": {
    "name": "ipython",
    "version": 3
   },
   "file_extension": ".py",
   "mimetype": "text/x-python",
   "name": "python",
   "nbconvert_exporter": "python",
   "pygments_lexer": "ipython3",
   "version": "3.9.6"
  }
 },
 "nbformat": 4,
 "nbformat_minor": 5
}
