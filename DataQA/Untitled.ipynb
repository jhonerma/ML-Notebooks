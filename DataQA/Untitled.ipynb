{
 "cells": [
  {
   "cell_type": "code",
   "execution_count": 1,
   "id": "e58d5f8f",
   "metadata": {},
   "outputs": [],
   "source": [
    "import numpy as np"
   ]
  },
  {
   "cell_type": "code",
   "execution_count": 2,
   "id": "0f395613",
   "metadata": {},
   "outputs": [],
   "source": [
    "pi0_train = 'Data-Split/pi0_train.npz'\n",
    "eta_train = 'Data-Split/eta_train.npz'\n",
    "bck_train = 'Data-Split/bck_train.npz'"
   ]
  },
  {
   "cell_type": "code",
   "execution_count": 3,
   "id": "02cd396d",
   "metadata": {},
   "outputs": [
    {
     "name": "stdout",
     "output_type": "stream",
     "text": [
      "['Size', 'Cluster', 'ClusterE', 'ClusterPt', 'ClusterModuleNumber', 'ClusterType', 'ClusterX', 'ClusterY', 'ClusterM02', 'ClusterM20', 'PartE', 'PartPt', 'PartEta', 'PartPhi', 'PartIsPrimary', 'PartPID']\n"
     ]
    }
   ],
   "source": [
    "data_pi0 = np.load(pi0_train, allow_pickle=True)\n",
    "data_eta = np.load(eta_train, allow_pickle=True)\n",
    "data_bck = np.load(bck_train, allow_pickle=True)\n",
    "print(list(data_bck.keys()))"
   ]
  },
  {
   "cell_type": "code",
   "execution_count": 4,
   "id": "be27f3f8",
   "metadata": {},
   "outputs": [],
   "source": [
    "pi0_size = data_pi0['Size']\n",
    "eta_size = data_eta['Size']\n",
    "bck_size = data_bck['Size']"
   ]
  },
  {
   "cell_type": "code",
   "execution_count": 5,
   "id": "5154ba5d",
   "metadata": {},
   "outputs": [],
   "source": [
    "size_train = pi0_size.item() + eta_size.item() + bck_size.item()"
   ]
  },
  {
   "cell_type": "code",
   "execution_count": 6,
   "id": "d6d734d8",
   "metadata": {},
   "outputs": [
    {
     "data": {
      "text/plain": [
       "1663552"
      ]
     },
     "execution_count": 6,
     "metadata": {},
     "output_type": "execute_result"
    }
   ],
   "source": [
    "size_train"
   ]
  },
  {
   "cell_type": "code",
   "execution_count": 7,
   "id": "0cd1207e",
   "metadata": {},
   "outputs": [],
   "source": [
    "Cluster_train = np.zeros((size_train, 50, 50), dtype=np.float32)\n",
    "ClusterType_train = np.zeros((size_train), dtype=np.ubyte)\n",
    "ClusterE_train = np.zeros((size_train), dtype=np.float32)\n",
    "ClusterPt_train = np.zeros((size_train), dtype=np.float32)\n",
    "ClusterModuleNumber_train = np.zeros((size_train), dtype=np.ubyte)\n",
    "ClusterX_train = np.zeros((size_train), dtype=np.ubyte)\n",
    "ClusterY_train = np.zeros((size_train), dtype=np.ubyte)\n",
    "ClusterM20_train = np.zeros((size_train), dtype=np.float32)\n",
    "ClusterM02_train = np.zeros((size_train), dtype= np.float32)\n",
    "PartE_train = np.zeros((size_train), dtype=np.float32)\n",
    "PartPt_train = np.zeros((size_train), dtype=np.float32)\n",
    "PartEta_train = np.zeros((size_train), dtype=np.float32)\n",
    "PartPhi_train = np.zeros((size_train), dtype=np.float32)\n",
    "PartIsPrimary_train = np.zeros((size_train), dtype=bool)\n",
    "PartPID_train = np.zeros((size_train), dtype=np.short)"
   ]
  },
  {
   "cell_type": "code",
   "execution_count": 8,
   "id": "c2160404",
   "metadata": {},
   "outputs": [],
   "source": [
    "def load_into(arr,keyword):\n",
    "    arr[0:pi0_size] = data_pi0[keyword]\n",
    "    arr[pi0_size:pi0_size+eta_size] = data_eta[keyword]\n",
    "    arr[-bck_size:] = data_bck[keyword]"
   ]
  },
  {
   "cell_type": "code",
   "execution_count": 9,
   "id": "d70b564d",
   "metadata": {},
   "outputs": [],
   "source": [
    "load_into(Cluster_train, 'Cluster')\n",
    "load_into(ClusterType_train, 'ClusterType')\n",
    "load_into(ClusterE_train, 'ClusterE')\n",
    "load_into(ClusterPt_train, 'ClusterPt')\n",
    "load_into(ClusterModuleNumber_train, 'ClusterModuleNumber')\n",
    "load_into(ClusterX_train, 'ClusterX')\n",
    "load_into(ClusterY_train, 'ClusterY')\n",
    "load_into(ClusterM20_train, 'ClusterM20')\n",
    "load_into(ClusterM02_train, 'ClusterM02')\n",
    "load_into(PartE_train, 'PartE')\n",
    "load_into(PartPt_train, 'PartPt')\n",
    "load_into(PartEta_train, 'PartEta')\n",
    "load_into(PartPhi_train, 'PartPhi')\n",
    "load_into(PartIsPrimary_train, 'PartIsPrimary')\n",
    "load_into(PartPID_train, 'PartPID')"
   ]
  },
  {
   "cell_type": "code",
   "execution_count": null,
   "id": "8e181b58",
   "metadata": {},
   "outputs": [],
   "source": []
  }
 ],
 "metadata": {
  "kernelspec": {
   "display_name": "Python [conda env:root-env]",
   "language": "python",
   "name": "conda-env-root-env-py"
  },
  "language_info": {
   "codemirror_mode": {
    "name": "ipython",
    "version": 3
   },
   "file_extension": ".py",
   "mimetype": "text/x-python",
   "name": "python",
   "nbconvert_exporter": "python",
   "pygments_lexer": "ipython3",
   "version": "3.9.6"
  }
 },
 "nbformat": 4,
 "nbformat_minor": 5
}
