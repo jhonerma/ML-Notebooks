{
 "cells": [
  {
   "cell_type": "code",
   "execution_count": 1,
   "metadata": {},
   "outputs": [
    {
     "name": "stdout",
     "output_type": "stream",
     "text": [
      "Welcome to JupyROOT 6.22/02\n"
     ]
    }
   ],
   "source": [
    "import numpy as np\n",
    "import matplotlib.pyplot as plt\n",
    "import pandas as pd\n",
    "import ROOT"
   ]
  },
  {
   "cell_type": "code",
   "execution_count": 2,
   "metadata": {},
   "outputs": [],
   "source": [
    "root_file = ROOT.TFile(\"../../ML-Data/LAOD/True_Merged_Pi0.root\", \"OPEN\")\n",
    "tree_pi0 = root_file.Get(\"True_Merged_Calo_Cluster_Pi0\")"
   ]
  },
  {
   "cell_type": "code",
   "execution_count": 3,
   "metadata": {},
   "outputs": [
    {
     "name": "stdout",
     "output_type": "stream",
     "text": [
      "Entries: 32\n",
      "Shape of cluster: (50, 50)\n"
     ]
    },
    {
     "data": {
      "text/html": [
       "<div>\n",
       "<style scoped>\n",
       "    .dataframe tbody tr th:only-of-type {\n",
       "        vertical-align: middle;\n",
       "    }\n",
       "\n",
       "    .dataframe tbody tr th {\n",
       "        vertical-align: top;\n",
       "    }\n",
       "\n",
       "    .dataframe thead th {\n",
       "        text-align: right;\n",
       "    }\n",
       "</style>\n",
       "<table border=\"1\" class=\"dataframe\">\n",
       "  <thead>\n",
       "    <tr style=\"text-align: right;\">\n",
       "      <th></th>\n",
       "      <th>ClusterType</th>\n",
       "      <th>E</th>\n",
       "      <th>Pt</th>\n",
       "      <th>ModuleNumber</th>\n",
       "      <th>X</th>\n",
       "      <th>Y</th>\n",
       "    </tr>\n",
       "  </thead>\n",
       "  <tbody>\n",
       "    <tr>\n",
       "      <th>0</th>\n",
       "      <td>1.0</td>\n",
       "      <td>12.739141</td>\n",
       "      <td>12.245251</td>\n",
       "      <td>9.0</td>\n",
       "      <td>1.0</td>\n",
       "      <td>7.0</td>\n",
       "    </tr>\n",
       "    <tr>\n",
       "      <th>1</th>\n",
       "      <td>2.0</td>\n",
       "      <td>5.609921</td>\n",
       "      <td>5.194993</td>\n",
       "      <td>9.0</td>\n",
       "      <td>18.0</td>\n",
       "      <td>21.0</td>\n",
       "    </tr>\n",
       "    <tr>\n",
       "      <th>2</th>\n",
       "      <td>2.0</td>\n",
       "      <td>5.168575</td>\n",
       "      <td>4.748755</td>\n",
       "      <td>9.0</td>\n",
       "      <td>21.0</td>\n",
       "      <td>14.0</td>\n",
       "    </tr>\n",
       "    <tr>\n",
       "      <th>3</th>\n",
       "      <td>2.0</td>\n",
       "      <td>5.752418</td>\n",
       "      <td>5.277642</td>\n",
       "      <td>9.0</td>\n",
       "      <td>22.0</td>\n",
       "      <td>21.0</td>\n",
       "    </tr>\n",
       "    <tr>\n",
       "      <th>4</th>\n",
       "      <td>2.0</td>\n",
       "      <td>6.982239</td>\n",
       "      <td>6.694414</td>\n",
       "      <td>8.0</td>\n",
       "      <td>44.0</td>\n",
       "      <td>10.0</td>\n",
       "    </tr>\n",
       "  </tbody>\n",
       "</table>\n",
       "</div>"
      ],
      "text/plain": [
       "   ClusterType          E         Pt  ModuleNumber     X     Y\n",
       "0          1.0  12.739141  12.245251           9.0   1.0   7.0\n",
       "1          2.0   5.609921   5.194993           9.0  18.0  21.0\n",
       "2          2.0   5.168575   4.748755           9.0  21.0  14.0\n",
       "3          2.0   5.752418   5.277642           9.0  22.0  21.0\n",
       "4          2.0   6.982239   6.694414           8.0  44.0  10.0"
      ]
     },
     "execution_count": 3,
     "metadata": {},
     "output_type": "execute_result"
    }
   ],
   "source": [
    "nentries = tree_pi0.GetEntries()\n",
    "cluster = np.zeros((50,50), dtype=np.float32)\n",
    "tree_pi0.SetBranchAddress(\"Cluster\", cluster)\n",
    "data, col = tree_pi0.AsMatrix(columns=['ClusterType','E', 'Pt', 'ModuleNumber', 'X', 'Y'], return_labels=True)\n",
    "pi0_df = pd.DataFrame(data=data, columns=col)\n",
    "print(f\"Entries: {nentries}\")\n",
    "print(f\"Shape of cluster: {cluster.shape}\")\n",
    "pi0_df.head()"
   ]
  },
  {
   "cell_type": "code",
   "execution_count": 27,
   "metadata": {},
   "outputs": [
    {
     "name": "stderr",
     "output_type": "stream",
     "text": [
      "Error R__unzip_header: error in header.  Values: 00\n",
      "Error in <TBasket::ReadBasketBuffers>: Inconsistency found in header (nin=0, nbuf=0)\n",
      "Error in <TBasket::ReadBasketBuffers>: fNbytes = 35641, fKeylen = 0, fObjlen = 41119, noutot = 0, nout=0, nin=0, nbuf=0\n",
      "Error R__unzip_header: error in header.  Values: 00\n",
      "Error in <TBasket::ReadBasketBuffers>: Inconsistency found in header (nin=0, nbuf=0)\n",
      "Error in <TBasket::ReadBasketBuffers>: fNbytes = 35641, fKeylen = 0, fObjlen = 41119, noutot = 0, nout=0, nin=0, nbuf=0\n",
      "Error R__unzip_header: error in header.  Values: 00\n",
      "Error in <TBasket::ReadBasketBuffers>: Inconsistency found in header (nin=0, nbuf=0)\n",
      "Error in <TBasket::ReadBasketBuffers>: fNbytes = 35641, fKeylen = 0, fObjlen = 41119, noutot = 0, nout=0, nin=0, nbuf=0\n",
      "Error R__unzip_header: error in header.  Values: 00\n",
      "Error in <TBasket::ReadBasketBuffers>: Inconsistency found in header (nin=0, nbuf=0)\n",
      "Error in <TBasket::ReadBasketBuffers>: fNbytes = 35641, fKeylen = 0, fObjlen = 41119, noutot = 0, nout=0, nin=0, nbuf=0\n",
      "Error R__unzip_header: error in header.  Values: 00\n",
      "Error in <TBasket::ReadBasketBuffers>: Inconsistency found in header (nin=0, nbuf=0)\n",
      "Error in <TBasket::ReadBasketBuffers>: fNbytes = 35641, fKeylen = 0, fObjlen = 41119, noutot = 0, nout=0, nin=0, nbuf=0\n",
      "Error R__unzip_header: error in header.  Values: 00\n",
      "Error in <TBasket::ReadBasketBuffers>: Inconsistency found in header (nin=0, nbuf=0)\n",
      "Error in <TBasket::ReadBasketBuffers>: fNbytes = 35641, fKeylen = 0, fObjlen = 41119, noutot = 0, nout=0, nin=0, nbuf=0\n",
      "Error R__unzip_header: error in header.  Values: 00\n",
      "Error in <TBasket::ReadBasketBuffers>: Inconsistency found in header (nin=0, nbuf=0)\n",
      "Error in <TBasket::ReadBasketBuffers>: fNbytes = 35641, fKeylen = 0, fObjlen = 41119, noutot = 0, nout=0, nin=0, nbuf=0\n",
      "Error R__unzip_header: error in header.  Values: 00\n",
      "Error in <TBasket::ReadBasketBuffers>: Inconsistency found in header (nin=0, nbuf=0)\n",
      "Error in <TBasket::ReadBasketBuffers>: fNbytes = 35641, fKeylen = 0, fObjlen = 41119, noutot = 0, nout=0, nin=0, nbuf=0\n",
      "Error R__unzip_header: error in header.  Values: 00\n",
      "Error in <TBasket::ReadBasketBuffers>: Inconsistency found in header (nin=0, nbuf=0)\n",
      "Error in <TBasket::ReadBasketBuffers>: fNbytes = 35641, fKeylen = 0, fObjlen = 41119, noutot = 0, nout=0, nin=0, nbuf=0\n",
      "Error R__unzip_header: error in header.  Values: 00\n",
      "Error in <TBasket::ReadBasketBuffers>: Inconsistency found in header (nin=0, nbuf=0)\n",
      "Error in <TBasket::ReadBasketBuffers>: fNbytes = 35641, fKeylen = 0, fObjlen = 41119, noutot = 0, nout=0, nin=0, nbuf=0\n",
      "Error R__unzip_header: error in header.  Values: 00\n",
      "Error in <TBasket::ReadBasketBuffers>: Inconsistency found in header (nin=0, nbuf=0)\n",
      "Error in <TBasket::ReadBasketBuffers>: fNbytes = 35641, fKeylen = 0, fObjlen = 41119, noutot = 0, nout=0, nin=0, nbuf=0\n",
      "Error R__unzip_header: error in header.  Values: 00\n",
      "Error in <TBasket::ReadBasketBuffers>: Inconsistency found in header (nin=0, nbuf=0)\n",
      "Error in <TBasket::ReadBasketBuffers>: fNbytes = 35641, fKeylen = 0, fObjlen = 41119, noutot = 0, nout=0, nin=0, nbuf=0\n",
      "Error R__unzip_header: error in header.  Values: 00\n",
      "Error in <TBasket::ReadBasketBuffers>: Inconsistency found in header (nin=0, nbuf=0)\n",
      "Error in <TBasket::ReadBasketBuffers>: fNbytes = 35641, fKeylen = 0, fObjlen = 41119, noutot = 0, nout=0, nin=0, nbuf=0\n",
      "Error R__unzip_header: error in header.  Values: 00\n",
      "Error in <TBasket::ReadBasketBuffers>: Inconsistency found in header (nin=0, nbuf=0)\n",
      "Error in <TBasket::ReadBasketBuffers>: fNbytes = 35641, fKeylen = 0, fObjlen = 41119, noutot = 0, nout=0, nin=0, nbuf=0\n",
      "Error R__unzip_header: error in header.  Values: 00\n",
      "Error in <TBasket::ReadBasketBuffers>: Inconsistency found in header (nin=0, nbuf=0)\n",
      "Error in <TBasket::ReadBasketBuffers>: fNbytes = 35641, fKeylen = 0, fObjlen = 41119, noutot = 0, nout=0, nin=0, nbuf=0\n",
      "Error R__unzip_header: error in header.  Values: 00\n",
      "Error in <TBasket::ReadBasketBuffers>: Inconsistency found in header (nin=0, nbuf=0)\n",
      "Error in <TBasket::ReadBasketBuffers>: fNbytes = 35641, fKeylen = 0, fObjlen = 41119, noutot = 0, nout=0, nin=0, nbuf=0\n",
      "Error R__unzip_header: error in header.  Values: 00\n",
      "Error in <TBasket::ReadBasketBuffers>: Inconsistency found in header (nin=0, nbuf=0)\n",
      "Error in <TBasket::ReadBasketBuffers>: fNbytes = 35641, fKeylen = 0, fObjlen = 41119, noutot = 0, nout=0, nin=0, nbuf=0\n",
      "Error R__unzip_header: error in header.  Values: 00\n",
      "Error in <TBasket::ReadBasketBuffers>: Inconsistency found in header (nin=0, nbuf=0)\n",
      "Error in <TBasket::ReadBasketBuffers>: fNbytes = 35641, fKeylen = 0, fObjlen = 41119, noutot = 0, nout=0, nin=0, nbuf=0\n",
      "Error R__unzip_header: error in header.  Values: 00\n",
      "Error in <TBasket::ReadBasketBuffers>: Inconsistency found in header (nin=0, nbuf=0)\n",
      "Error in <TBasket::ReadBasketBuffers>: fNbytes = 35641, fKeylen = 0, fObjlen = 41119, noutot = 0, nout=0, nin=0, nbuf=0\n",
      "Error R__unzip_header: error in header.  Values: 00\n",
      "Error in <TBasket::ReadBasketBuffers>: Inconsistency found in header (nin=0, nbuf=0)\n",
      "Error in <TBasket::ReadBasketBuffers>: fNbytes = 35641, fKeylen = 0, fObjlen = 41119, noutot = 0, nout=0, nin=0, nbuf=0\n",
      "Error R__unzip_header: error in header.  Values: 00\n",
      "Error in <TBasket::ReadBasketBuffers>: Inconsistency found in header (nin=0, nbuf=0)\n",
      "Error in <TBasket::ReadBasketBuffers>: fNbytes = 35641, fKeylen = 0, fObjlen = 41119, noutot = 0, nout=0, nin=0, nbuf=0\n",
      "Error R__unzip_header: error in header.  Values: 00\n",
      "Error in <TBasket::ReadBasketBuffers>: Inconsistency found in header (nin=0, nbuf=0)\n",
      "Error in <TBasket::ReadBasketBuffers>: fNbytes = 35641, fKeylen = 0, fObjlen = 41119, noutot = 0, nout=0, nin=0, nbuf=0\n",
      "Error R__unzip_header: error in header.  Values: 00\n",
      "Error in <TBasket::ReadBasketBuffers>: Inconsistency found in header (nin=0, nbuf=0)\n",
      "Error in <TBasket::ReadBasketBuffers>: fNbytes = 35641, fKeylen = 0, fObjlen = 41119, noutot = 0, nout=0, nin=0, nbuf=0\n",
      "Error R__unzip_header: error in header.  Values: 00\n",
      "Error in <TBasket::ReadBasketBuffers>: Inconsistency found in header (nin=0, nbuf=0)\n",
      "Error in <TBasket::ReadBasketBuffers>: fNbytes = 35641, fKeylen = 0, fObjlen = 41119, noutot = 0, nout=0, nin=0, nbuf=0\n",
      "Error R__unzip_header: error in header.  Values: 00\n",
      "Error in <TBasket::ReadBasketBuffers>: Inconsistency found in header (nin=0, nbuf=0)\n",
      "Error in <TBasket::ReadBasketBuffers>: fNbytes = 35641, fKeylen = 0, fObjlen = 41119, noutot = 0, nout=0, nin=0, nbuf=0\n",
      "Error R__unzip_header: error in header.  Values: 00\n",
      "Error in <TBasket::ReadBasketBuffers>: Inconsistency found in header (nin=0, nbuf=0)\n",
      "Error in <TBasket::ReadBasketBuffers>: fNbytes = 35641, fKeylen = 0, fObjlen = 41119, noutot = 0, nout=0, nin=0, nbuf=0\n",
      "Error R__unzip_header: error in header.  Values: 00\n",
      "Error in <TBasket::ReadBasketBuffers>: Inconsistency found in header (nin=0, nbuf=0)\n",
      "Error in <TBasket::ReadBasketBuffers>: fNbytes = 35641, fKeylen = 0, fObjlen = 41119, noutot = 0, nout=0, nin=0, nbuf=0\n",
      "Error R__unzip_header: error in header.  Values: 00\n",
      "Error in <TBasket::ReadBasketBuffers>: Inconsistency found in header (nin=0, nbuf=0)\n",
      "Error in <TBasket::ReadBasketBuffers>: fNbytes = 35641, fKeylen = 0, fObjlen = 41119, noutot = 0, nout=0, nin=0, nbuf=0\n",
      "Error R__unzip_header: error in header.  Values: 00\n",
      "Error in <TBasket::ReadBasketBuffers>: Inconsistency found in header (nin=0, nbuf=0)\n",
      "Error in <TBasket::ReadBasketBuffers>: fNbytes = 35641, fKeylen = 0, fObjlen = 41119, noutot = 0, nout=0, nin=0, nbuf=0\n",
      "Error R__unzip_header: error in header.  Values: 00\n",
      "Error in <TBasket::ReadBasketBuffers>: Inconsistency found in header (nin=0, nbuf=0)\n",
      "Error in <TBasket::ReadBasketBuffers>: fNbytes = 35641, fKeylen = 0, fObjlen = 41119, noutot = 0, nout=0, nin=0, nbuf=0\n"
     ]
    }
   ],
   "source": [
    "for i in range(nentries):\n",
    "    tree_pi0.GetEntry(i)"
   ]
  },
  {
   "cell_type": "code",
   "execution_count": 17,
   "metadata": {},
   "outputs": [],
   "source": [
    "croot_file = ROOT.TFile(\"../../ML-Data/LAOD/GammaCaloMergedTest_119.root\", \"OPEN\")"
   ]
  },
  {
   "cell_type": "code",
   "execution_count": 22,
   "metadata": {},
   "outputs": [],
   "source": [
    "tree = croot_file.Get(\"True_Merged_Calo_Cluster_Pi0\")"
   ]
  },
  {
   "cell_type": "code",
   "execution_count": null,
   "metadata": {},
   "outputs": [],
   "source": []
  }
 ],
 "metadata": {
  "kernelspec": {
   "display_name": "Python 3",
   "language": "python",
   "name": "python3"
  },
  "language_info": {
   "codemirror_mode": {
    "name": "ipython",
    "version": 3
   },
   "file_extension": ".py",
   "mimetype": "text/x-python",
   "name": "python",
   "nbconvert_exporter": "python",
   "pygments_lexer": "ipython3",
   "version": "3.8.6"
  }
 },
 "nbformat": 4,
 "nbformat_minor": 4
}
