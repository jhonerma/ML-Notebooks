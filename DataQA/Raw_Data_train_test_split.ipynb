{
 "cells": [
  {
   "cell_type": "code",
   "execution_count": 1,
   "id": "a23b4e15",
   "metadata": {},
   "outputs": [],
   "source": [
    "import numpy as np\n",
    "import matplotlib.pyplot as plt\n",
    "from sklearn.model_selection import train_test_split"
   ]
  },
  {
   "cell_type": "code",
   "execution_count": 2,
   "id": "f3dc7f6d",
   "metadata": {},
   "outputs": [],
   "source": [
    "#Path to data\n",
    "pi0_data_path = 'Data-Raw/pi0.npz'\n",
    "eta_data_path = 'Data-Raw/eta.npz'\n",
    "bck_data_path = 'Data-Raw/bck.npz'"
   ]
  },
  {
   "cell_type": "markdown",
   "id": "632fbb30",
   "metadata": {},
   "source": [
    "Read in data and split the raw data into train and test sets\n",
    "This is done in a function, so that pythons garbage collect frees up any memory it can after leaving scope of function"
   ]
  },
  {
   "cell_type": "code",
   "execution_count": 3,
   "id": "c155ba1e",
   "metadata": {},
   "outputs": [],
   "source": [
    "def load_split_pi0(test_size):\n",
    "    data_pi0 = np.load(pi0_data_path, allow_pickle=True)\n",
    "    \n",
    "    pi0_ClusterN = data_pi0[\"ClusterN\"]\n",
    "    pi0_Cluster = data_pi0[\"Cluster\"]\n",
    "    pi0_ClusterTiming = data_pi0[\"ClusterTiming\"]\n",
    "    \n",
    "\n",
    "    pi0_ClusterType = data_pi0[\"ClusterType\"]\n",
    "    pi0_ClusterE = data_pi0[\"ClusterE\"]\n",
    "    pi0_ClusterPt = data_pi0[\"ClusterPt\"]\n",
    "    pi0_ClusterModuleNumber = data_pi0[\"ClusterModuleNumber\"]\n",
    "    pi0_ClusterCol = data_pi0[\"ClusterCol\"]\n",
    "    pi0_ClusterRow = data_pi0[\"ClusterRow\"]\n",
    "    pi0_ClusterM02 = data_pi0[\"ClusterM02\"]\n",
    "    pi0_ClusterM20 = data_pi0[\"ClusterM20\"]\n",
    "    pi0_ClusterDistFromVert = data_pi0[\"ClusterDistFromVert\"]\n",
    "    pi0_PartE = data_pi0[\"PartE\"]\n",
    "    pi0_PartPt = data_pi0[\"PartPt\"]\n",
    "    pi0_PartEta = data_pi0[\"PartEta\"]\n",
    "    pi0_PartPhi = data_pi0[\"PartPhi\"]\n",
    "    pi0_PartIsPrimary = data_pi0[\"PartIsPrimary\"]\n",
    "    pi0_PartPID = data_pi0[\"PartPID\"]\n",
    "\n",
    "    pi0_ClusterN_train, pi0_ClusterN_test, pi0_Cluster_train, pi0_Cluster_test, pi0_ClusterTiming_train, pi0_ClusterTiming_test, pi0_ClusterE_train, pi0_ClusterE_test, \\\n",
    "    pi0_ClusterType_train, pi0_ClusterType_test,\\\n",
    "    pi0_ClusterPt_train, pi0_ClusterPt_test, pi0_ClusterModuleNumber_train, pi0_ClusterModuleNumber_test, \\\n",
    "    pi0_ClusterCol_train, pi0_ClusterCol_test, pi0_ClusterRow_train, pi0_ClusterRow_test, \\\n",
    "    pi0_ClusterM02_train, pi0_ClusterM02_test, pi0_ClusterM20_train, pi0_ClusterM20_test, pi0_ClusterDistFromVert_train, \\\n",
    "    pi0_ClusterDistFromVert_test, pi0_PartE_train, pi0_PartE_test, pi0_PartPt_train, pi0_PartPt_test, pi0_PartEta_train, \\\n",
    "    pi0_PartEta_test, pi0_PartPhi_train, pi0_PartPhi_test, pi0_PartIsPrimary_train, pi0_PartIsPrimary_test, \\\n",
    "    pi0_PartPID_train, pi0_PartPID_test = train_test_split(\n",
    "        pi0_ClusterN, pi0_Cluster, pi0_ClusterTiming, pi0_ClusterE, pi0_ClusterType, pi0_ClusterPt, pi0_ClusterModuleNumber, pi0_ClusterCol, pi0_ClusterRow,\n",
    "        pi0_ClusterM02, pi0_ClusterM20, pi0_ClusterDistFromVert, pi0_PartE, pi0_PartPt, pi0_PartEta, pi0_PartPhi, pi0_PartIsPrimary, \n",
    "        pi0_PartPID, test_size=0.2, random_state=42) \n",
    "    \n",
    "    return pi0_ClusterN_train, pi0_ClusterN_test, pi0_Cluster_train, pi0_Cluster_test, pi0_ClusterTiming_train, pi0_ClusterTiming_test, pi0_ClusterE_train, pi0_ClusterE_test, pi0_ClusterType_train, pi0_ClusterType_test, pi0_ClusterPt_train, pi0_ClusterPt_test, pi0_ClusterModuleNumber_train, pi0_ClusterModuleNumber_test, pi0_ClusterCol_train, pi0_ClusterCol_test, pi0_ClusterRow_train, pi0_ClusterRow_test, pi0_ClusterM02_train, pi0_ClusterM02_test, pi0_ClusterM20_train, pi0_ClusterM20_test, pi0_ClusterDistFromVert_train, pi0_ClusterDistFromVert_test, pi0_PartE_train, pi0_PartE_test, pi0_PartPt_train, pi0_PartPt_test, pi0_PartEta_train, pi0_PartEta_test, pi0_PartPhi_train, pi0_PartPhi_test, pi0_PartIsPrimary_train, pi0_PartIsPrimary_test, pi0_PartPID_train, pi0_PartPID_test"
   ]
  },
  {
   "cell_type": "code",
   "execution_count": 4,
   "id": "7387666c",
   "metadata": {},
   "outputs": [],
   "source": [
    " pi0_ClusterN_train, pi0_ClusterN_test, pi0_Cluster_train, pi0_Cluster_test, pi0_ClusterTiming_train, pi0_ClusterTiming_test, pi0_ClusterE_train, pi0_ClusterE_test, pi0_ClusterType_train, pi0_ClusterType_test,pi0_ClusterPt_train, pi0_ClusterPt_test, pi0_ClusterModuleNumber_train, pi0_ClusterModuleNumber_test, pi0_ClusterCol_train, pi0_ClusterCol_test, pi0_ClusterRow_train, pi0_ClusterRow_test, pi0_ClusterM02_train, pi0_ClusterM02_test, pi0_ClusterM20_train, pi0_ClusterM20_test, pi0_ClusterDistFromVert_train, pi0_ClusterDistFromVert_test, pi0_PartE_train, pi0_PartE_test, pi0_PartPt_train, pi0_PartPt_test, pi0_PartEta_train, pi0_PartEta_test, pi0_PartPhi_train, pi0_PartPhi_test, pi0_PartIsPrimary_train, pi0_PartIsPrimary_test, pi0_PartPID_train, pi0_PartPID_test = load_split_pi0(0.2)"
   ]
  },
  {
   "cell_type": "code",
   "execution_count": 5,
   "id": "b6728ad6",
   "metadata": {},
   "outputs": [],
   "source": [
    "def load_split_eta(test_size):\n",
    "    data_eta = np.load(eta_data_path, allow_pickle=True)\n",
    "    \n",
    "    eta_ClusterN = data_eta[\"ClusterN\"]\n",
    "    eta_Cluster = data_eta[\"Cluster\"]\n",
    "    eta_ClusterTiming = data_eta[\"ClusterTiming\"]\n",
    "    \n",
    "\n",
    "    eta_ClusterType = data_eta[\"ClusterType\"]\n",
    "    eta_ClusterE = data_eta[\"ClusterE\"]\n",
    "    eta_ClusterPt = data_eta[\"ClusterPt\"]\n",
    "    eta_ClusterModuleNumber = data_eta[\"ClusterModuleNumber\"]\n",
    "    eta_ClusterCol = data_eta[\"ClusterCol\"]\n",
    "    eta_ClusterRow = data_eta[\"ClusterRow\"]\n",
    "    eta_ClusterM02 = data_eta[\"ClusterM02\"]\n",
    "    eta_ClusterM20 = data_eta[\"ClusterM20\"]\n",
    "    eta_ClusterDistFromVert = data_eta[\"ClusterDistFromVert\"]\n",
    "    eta_PartE = data_eta[\"PartE\"]\n",
    "    eta_PartPt = data_eta[\"PartPt\"]\n",
    "    eta_PartEta = data_eta[\"PartEta\"]\n",
    "    eta_PartPhi = data_eta[\"PartPhi\"]\n",
    "    eta_PartIsPrimary = data_eta[\"PartIsPrimary\"]\n",
    "    eta_PartPID = data_eta[\"PartPID\"]\n",
    "\n",
    "    eta_ClusterN_train, eta_ClusterN_test, eta_Cluster_train, eta_Cluster_test, eta_ClusterTiming_train, eta_ClusterTiming_test, eta_ClusterE_train, eta_ClusterE_test, \\\n",
    "    eta_ClusterType_train, eta_ClusterType_test,\\\n",
    "    eta_ClusterPt_train, eta_ClusterPt_test, eta_ClusterModuleNumber_train, eta_ClusterModuleNumber_test, \\\n",
    "    eta_ClusterCol_train, eta_ClusterCol_test, eta_ClusterRow_train, eta_ClusterRow_test, \\\n",
    "    eta_ClusterM02_train, eta_ClusterM02_test, eta_ClusterM20_train, eta_ClusterM20_test, eta_ClusterDistFromVert_train, \\\n",
    "    eta_ClusterDistFromVert_test, eta_PartE_train, eta_PartE_test, eta_PartPt_train, eta_PartPt_test, eta_PartEta_train, \\\n",
    "    eta_PartEta_test, eta_PartPhi_train, eta_PartPhi_test, eta_PartIsPrimary_train, eta_PartIsPrimary_test, \\\n",
    "    eta_PartPID_train, eta_PartPID_test = train_test_split(\n",
    "        eta_ClusterN, eta_Cluster, eta_ClusterTiming, eta_ClusterE, eta_ClusterType, eta_ClusterPt, eta_ClusterModuleNumber, eta_ClusterCol, eta_ClusterRow,\n",
    "        eta_ClusterM02, eta_ClusterM20, eta_ClusterDistFromVert, eta_PartE, eta_PartPt, eta_PartEta, eta_PartPhi, eta_PartIsPrimary, \n",
    "        eta_PartPID, test_size=0.2, random_state=42) \n",
    "    \n",
    "    return eta_ClusterN_train, eta_ClusterN_test, eta_Cluster_train, eta_Cluster_test, eta_ClusterTiming_train, eta_ClusterTiming_test, eta_ClusterE_train, eta_ClusterE_test, eta_ClusterType_train, eta_ClusterType_test, eta_ClusterPt_train, eta_ClusterPt_test, eta_ClusterModuleNumber_train, eta_ClusterModuleNumber_test, eta_ClusterCol_train, eta_ClusterCol_test, eta_ClusterRow_train, eta_ClusterRow_test, eta_ClusterM02_train, eta_ClusterM02_test, eta_ClusterM20_train, eta_ClusterM20_test, eta_ClusterDistFromVert_train, eta_ClusterDistFromVert_test, eta_PartE_train, eta_PartE_test, eta_PartPt_train, eta_PartPt_test, eta_PartEta_train, eta_PartEta_test, eta_PartPhi_train, eta_PartPhi_test, eta_PartIsPrimary_train, eta_PartIsPrimary_test, eta_PartPID_train, eta_PartPID_test"
   ]
  },
  {
   "cell_type": "code",
   "execution_count": 6,
   "id": "18233cd5",
   "metadata": {},
   "outputs": [],
   "source": [
    " eta_ClusterN_train, eta_ClusterN_test, eta_Cluster_train, eta_Cluster_test, eta_ClusterTiming_train, eta_ClusterTiming_test, eta_ClusterE_train, eta_ClusterE_test, eta_ClusterType_train, eta_ClusterType_test,eta_ClusterPt_train, eta_ClusterPt_test, eta_ClusterModuleNumber_train, eta_ClusterModuleNumber_test, eta_ClusterCol_train, eta_ClusterCol_test, eta_ClusterRow_train, eta_ClusterRow_test, eta_ClusterM02_train, eta_ClusterM02_test, eta_ClusterM20_train, eta_ClusterM20_test, eta_ClusterDistFromVert_train, eta_ClusterDistFromVert_test, eta_PartE_train, eta_PartE_test, eta_PartPt_train, eta_PartPt_test, eta_PartEta_train, eta_PartEta_test, eta_PartPhi_train, eta_PartPhi_test, eta_PartIsPrimary_train, eta_PartIsPrimary_test, eta_PartPID_train, eta_PartPID_test = load_split_eta(0.2)"
   ]
  },
  {
   "cell_type": "code",
   "execution_count": 7,
   "id": "5e85add8",
   "metadata": {},
   "outputs": [],
   "source": [
    "def load_split_bck(test_size):\n",
    "    data_bck = np.load(bck_data_path, allow_pickle=True)\n",
    "    \n",
    "    bck_ClusterN = data_bck[\"ClusterN\"]\n",
    "    bck_Cluster = data_bck[\"Cluster\"]\n",
    "    bck_ClusterTiming = data_bck[\"ClusterTiming\"]\n",
    "    \n",
    "\n",
    "    bck_ClusterType = data_bck[\"ClusterType\"]\n",
    "    bck_ClusterE = data_bck[\"ClusterE\"]\n",
    "    bck_ClusterPt = data_bck[\"ClusterPt\"]\n",
    "    bck_ClusterModuleNumber = data_bck[\"ClusterModuleNumber\"]\n",
    "    bck_ClusterCol = data_bck[\"ClusterCol\"]\n",
    "    bck_ClusterRow = data_bck[\"ClusterRow\"]\n",
    "    bck_ClusterM02 = data_bck[\"ClusterM02\"]\n",
    "    bck_ClusterM20 = data_bck[\"ClusterM20\"]\n",
    "    bck_ClusterDistFromVert = data_bck[\"ClusterDistFromVert\"]\n",
    "    bck_PartE = data_bck[\"PartE\"]\n",
    "    bck_PartPt = data_bck[\"PartPt\"]\n",
    "    bck_PartEta = data_bck[\"PartEta\"]\n",
    "    bck_PartPhi = data_bck[\"PartPhi\"]\n",
    "    bck_PartIsPrimary = np.zeros_like(bck_PartE, dtype=bool)\n",
    "    bck_PartPID = data_bck[\"PartPID\"]\n",
    "\n",
    "    bck_ClusterN_train, bck_ClusterN_test, bck_Cluster_train, bck_Cluster_test, bck_ClusterTiming_train, bck_ClusterTiming_test, bck_ClusterE_train, bck_ClusterE_test, \\\n",
    "    bck_ClusterType_train, bck_ClusterType_test,\\\n",
    "    bck_ClusterPt_train, bck_ClusterPt_test, bck_ClusterModuleNumber_train, bck_ClusterModuleNumber_test, \\\n",
    "    bck_ClusterCol_train, bck_ClusterCol_test, bck_ClusterRow_train, bck_ClusterRow_test, \\\n",
    "    bck_ClusterM02_train, bck_ClusterM02_test, bck_ClusterM20_train, bck_ClusterM20_test, bck_ClusterDistFromVert_train, \\\n",
    "    bck_ClusterDistFromVert_test, bck_PartE_train, bck_PartE_test, bck_PartPt_train, bck_PartPt_test, bck_PartEta_train, \\\n",
    "    bck_PartEta_test, bck_PartPhi_train, bck_PartPhi_test, bck_PartIsPrimary_train, bck_PartIsPrimary_test, \\\n",
    "    bck_PartPID_train, bck_PartPID_test = train_test_split(\n",
    "        bck_ClusterN, bck_Cluster, bck_ClusterTiming, bck_ClusterE, bck_ClusterType, bck_ClusterPt, bck_ClusterModuleNumber, bck_ClusterCol, bck_ClusterRow,\n",
    "        bck_ClusterM02, bck_ClusterM20, bck_ClusterDistFromVert, bck_PartE, bck_PartPt, bck_PartEta, bck_PartPhi, bck_PartIsPrimary, \n",
    "        bck_PartPID, test_size=0.2, random_state=42) \n",
    "    \n",
    "    return bck_ClusterN_train, bck_ClusterN_test, bck_Cluster_train, bck_Cluster_test, bck_ClusterTiming_train, bck_ClusterTiming_test, bck_ClusterE_train, bck_ClusterE_test, bck_ClusterType_train, bck_ClusterType_test, bck_ClusterPt_train, bck_ClusterPt_test, bck_ClusterModuleNumber_train, bck_ClusterModuleNumber_test, bck_ClusterCol_train, bck_ClusterCol_test, bck_ClusterRow_train, bck_ClusterRow_test, bck_ClusterM02_train, bck_ClusterM02_test, bck_ClusterM20_train, bck_ClusterM20_test, bck_ClusterDistFromVert_train, bck_ClusterDistFromVert_test, bck_PartE_train, bck_PartE_test, bck_PartPt_train, bck_PartPt_test, bck_PartEta_train, bck_PartEta_test, bck_PartPhi_train, bck_PartPhi_test, bck_PartIsPrimary_train, bck_PartIsPrimary_test, bck_PartPID_train, bck_PartPID_test"
   ]
  },
  {
   "cell_type": "code",
   "execution_count": 9,
   "id": "0512d280",
   "metadata": {},
   "outputs": [],
   "source": [
    " bck_ClusterN_train, bck_ClusterN_test, bck_Cluster_train, bck_Cluster_test, bck_ClusterTiming_train, bck_ClusterTiming_test, bck_ClusterE_train, bck_ClusterE_test, bck_ClusterType_train, bck_ClusterType_test,bck_ClusterPt_train, bck_ClusterPt_test, bck_ClusterModuleNumber_train, bck_ClusterModuleNumber_test, bck_ClusterCol_train, bck_ClusterCol_test, bck_ClusterRow_train, bck_ClusterRow_test, bck_ClusterM02_train, bck_ClusterM02_test, bck_ClusterM20_train, bck_ClusterM20_test, bck_ClusterDistFromVert_train, bck_ClusterDistFromVert_test, bck_PartE_train, bck_PartE_test, bck_PartPt_train, bck_PartPt_test, bck_PartEta_train, bck_PartEta_test, bck_PartPhi_train, bck_PartPhi_test, bck_PartIsPrimary_train, bck_PartIsPrimary_test, bck_PartPID_train, bck_PartPID_test = load_split_bck(0.2)"
   ]
  },
  {
   "cell_type": "markdown",
   "id": "a56ecb9f",
   "metadata": {},
   "source": [
    "Save the datasets"
   ]
  },
  {
   "cell_type": "code",
   "execution_count": 10,
   "id": "318de0ba",
   "metadata": {},
   "outputs": [],
   "source": [
    "np.savez_compressed('Data-Split/pi0_train', Size=pi0_ClusterE_train.size, ClusterN=pi0_ClusterN_train, Cluster=pi0_Cluster_train\n",
    "                    , ClusterTiming=pi0_ClusterTiming_train, ClusterE=pi0_ClusterE_train, ClusterPt=pi0_ClusterPt_train\n",
    "                    , ClusterModuleNumber=pi0_ClusterModuleNumber_train, ClusterType=pi0_ClusterType_train\n",
    "                    , ClusterRow=pi0_ClusterRow_train, ClusterCol=pi0_ClusterCol_train, ClusterM02=pi0_ClusterM02_train\n",
    "                    , ClusterM20=pi0_ClusterM20_train, ClusterDistFromVert=pi0_ClusterDistFromVert_train , PartE=pi0_PartE_train, PartPt=pi0_PartPt_train\n",
    "                    , PartEta=pi0_PartEta_train, PartPhi=pi0_PartPhi_train, PartIsPrimary=pi0_PartIsPrimary_train\n",
    "                    , PartPID=pi0_PartPID_train)\n",
    "\n",
    "np.savez_compressed('Data-Split/pi0_test', Size=pi0_ClusterE_test.size, ClusterN=pi0_ClusterN_test, Cluster=pi0_Cluster_test\n",
    "                    , ClusterTiming=pi0_ClusterTiming_test, ClusterE=pi0_ClusterE_test, ClusterPt=pi0_ClusterPt_test\n",
    "                    , ClusterModuleNumber=pi0_ClusterModuleNumber_test, ClusterType=pi0_ClusterType_test\n",
    "                    , ClusterRow=pi0_ClusterRow_test, ClusterCol=pi0_ClusterCol_test, ClusterM02=pi0_ClusterM02_test\n",
    "                    , ClusterM20=pi0_ClusterM20_test, ClusterDistFromVert=pi0_ClusterDistFromVert_test, PartE=pi0_PartE_test, PartPt=pi0_PartPt_test\n",
    "                    , PartEta=pi0_PartEta_test, PartPhi=pi0_PartPhi_test, PartIsPrimary=pi0_PartIsPrimary_test\n",
    "                    , PartPID=pi0_PartPID_test)"
   ]
  },
  {
   "cell_type": "code",
   "execution_count": 11,
   "id": "2512ae0e",
   "metadata": {},
   "outputs": [],
   "source": [
    "np.savez_compressed('Data-Split/eta_train', Size=eta_ClusterE_train.size, ClusterN=eta_ClusterN_train, Cluster=eta_Cluster_train\n",
    "                    , ClusterTiming=eta_ClusterTiming_train, ClusterE=eta_ClusterE_train, ClusterPt=eta_ClusterPt_train\n",
    "                    , ClusterModuleNumber=eta_ClusterModuleNumber_train, ClusterType=eta_ClusterType_train\n",
    "                    , ClusterRow=eta_ClusterRow_train, ClusterCol=eta_ClusterCol_train, ClusterM02=eta_ClusterM02_train\n",
    "                    , ClusterM20=eta_ClusterM20_train, ClusterDistFromVert=eta_ClusterDistFromVert_train , PartE=eta_PartE_train, PartPt=eta_PartPt_train\n",
    "                    , PartEta=eta_PartEta_train, PartPhi=eta_PartPhi_train, PartIsPrimary=eta_PartIsPrimary_train\n",
    "                    , PartPID=eta_PartPID_train)\n",
    "\n",
    "np.savez_compressed('Data-Split/eta_test', Size=eta_ClusterE_test.size, ClusterN=eta_ClusterN_test, Cluster=eta_Cluster_test\n",
    "                    , ClusterTiming=eta_ClusterTiming_test, ClusterE=eta_ClusterE_test, ClusterPt=eta_ClusterPt_test\n",
    "                    , ClusterModuleNumber=eta_ClusterModuleNumber_test, ClusterType=eta_ClusterType_test\n",
    "                    , ClusterRow=eta_ClusterRow_test, ClusterCol=eta_ClusterCol_test, ClusterM02=eta_ClusterM02_test\n",
    "                    , ClusterM20=eta_ClusterM20_test, ClusterDistFromVert=eta_ClusterDistFromVert_test, PartE=eta_PartE_test, PartPt=eta_PartPt_test\n",
    "                    , PartEta=eta_PartEta_test, PartPhi=eta_PartPhi_test, PartIsPrimary=eta_PartIsPrimary_test\n",
    "                    , PartPID=eta_PartPID_test)"
   ]
  },
  {
   "cell_type": "code",
   "execution_count": 12,
   "id": "e398836d",
   "metadata": {},
   "outputs": [],
   "source": [
    "np.savez_compressed('Data-Split/bck_train', Size=bck_ClusterE_train.size, ClusterN=bck_ClusterN_train, Cluster=bck_Cluster_train\n",
    "                    , ClusterTiming=bck_ClusterTiming_train, ClusterE=bck_ClusterE_train, ClusterPt=bck_ClusterPt_train\n",
    "                    , ClusterModuleNumber=bck_ClusterModuleNumber_train, ClusterType=bck_ClusterType_train\n",
    "                    , ClusterRow=bck_ClusterRow_train, ClusterCol=bck_ClusterCol_train, ClusterM02=bck_ClusterM02_train\n",
    "                    , ClusterM20=bck_ClusterM20_train, ClusterDistFromVert=bck_ClusterDistFromVert_train , PartE=bck_PartE_train, PartPt=bck_PartPt_train\n",
    "                    , PartEta=bck_PartEta_train, PartPhi=bck_PartPhi_train, PartIsPrimary=bck_PartIsPrimary_train\n",
    "                    , PartPID=bck_PartPID_train)\n",
    "\n",
    "np.savez_compressed('Data-Split/bck_test', Size=bck_ClusterE_test.size, ClusterN=bck_ClusterN_test, Cluster=bck_Cluster_test\n",
    "                    , ClusterTiming=bck_ClusterTiming_test, ClusterE=bck_ClusterE_test, ClusterPt=bck_ClusterPt_test\n",
    "                    , ClusterModuleNumber=bck_ClusterModuleNumber_test, ClusterType=bck_ClusterType_test\n",
    "                    , ClusterRow=bck_ClusterRow_test, ClusterCol=bck_ClusterCol_test, ClusterM02=bck_ClusterM02_test\n",
    "                    , ClusterM20=bck_ClusterM20_test, ClusterDistFromVert=bck_ClusterDistFromVert_test, PartE=bck_PartE_test, PartPt=bck_PartPt_test\n",
    "                    , PartEta=bck_PartEta_test, PartPhi=bck_PartPhi_test, PartIsPrimary=bck_PartIsPrimary_test\n",
    "                    , PartPID=bck_PartPID_test)"
   ]
  },
  {
   "cell_type": "code",
   "execution_count": null,
   "id": "fc9e9b9f",
   "metadata": {},
   "outputs": [],
   "source": []
  }
 ],
 "metadata": {
  "kernelspec": {
   "display_name": "Python [conda env:root-env]",
   "language": "python",
   "name": "conda-env-root-env-py"
  },
  "language_info": {
   "codemirror_mode": {
    "name": "ipython",
    "version": 3
   },
   "file_extension": ".py",
   "mimetype": "text/x-python",
   "name": "python",
   "nbconvert_exporter": "python",
   "pygments_lexer": "ipython3",
   "version": "3.9.7"
  }
 },
 "nbformat": 4,
 "nbformat_minor": 5
}
